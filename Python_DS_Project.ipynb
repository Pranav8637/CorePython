{
  "nbformat": 4,
  "nbformat_minor": 0,
  "metadata": {
    "colab": {
      "name": "Python_DS_Project.ipynb",
      "provenance": [],
      "collapsed_sections": [],
      "include_colab_link": true
    },
    "kernelspec": {
      "display_name": "Python 3",
      "name": "python3"
    },
    "language_info": {
      "name": "python"
    }
  },
  "cells": [
    {
      "cell_type": "markdown",
      "metadata": {
        "id": "view-in-github",
        "colab_type": "text"
      },
      "source": [
        "<a href=\"https://colab.research.google.com/github/Pranav8637/CorePython/blob/main/Python_DS_Project.ipynb\" target=\"_parent\"><img src=\"https://colab.research.google.com/assets/colab-badge.svg\" alt=\"Open In Colab\"/></a>"
      ]
    },
    {
      "cell_type": "code",
      "metadata": {
        "id": "JS7DsBFcaINu"
      },
      "source": [
        "# 1. Read the provided csv file (covid19.csv) into your Colab environment as a Pandas \n",
        "# DataFrame"
      ],
      "execution_count": null,
      "outputs": []
    },
    {
      "cell_type": "code",
      "metadata": {
        "colab": {
          "base_uri": "https://localhost:8080/",
          "height": 626
        },
        "id": "mnSNdUhILAvW",
        "outputId": "c1fef439-2ac3-43b8-a43d-98ac76eea708"
      },
      "source": [
        "import pandas as pd\n",
        "covid19=pd.read_csv('/content/drive/MyDrive/data/covid19.csv')\n",
        "covid19"
      ],
      "execution_count": null,
      "outputs": [
        {
          "output_type": "execute_result",
          "data": {
            "text/html": [
              "<div>\n",
              "<style scoped>\n",
              "    .dataframe tbody tr th:only-of-type {\n",
              "        vertical-align: middle;\n",
              "    }\n",
              "\n",
              "    .dataframe tbody tr th {\n",
              "        vertical-align: top;\n",
              "    }\n",
              "\n",
              "    .dataframe thead th {\n",
              "        text-align: right;\n",
              "    }\n",
              "</style>\n",
              "<table border=\"1\" class=\"dataframe\">\n",
              "  <thead>\n",
              "    <tr style=\"text-align: right;\">\n",
              "      <th></th>\n",
              "      <th>FIPS</th>\n",
              "      <th>Admin2</th>\n",
              "      <th>Province_State</th>\n",
              "      <th>Country_Region</th>\n",
              "      <th>Last_Update</th>\n",
              "      <th>Lat</th>\n",
              "      <th>Long_</th>\n",
              "      <th>Confirmed</th>\n",
              "      <th>Deaths</th>\n",
              "      <th>Recovered</th>\n",
              "      <th>Active</th>\n",
              "      <th>Combined_Key</th>\n",
              "      <th>Incident_Rate</th>\n",
              "      <th>Case_Fatality_Ratio</th>\n",
              "    </tr>\n",
              "  </thead>\n",
              "  <tbody>\n",
              "    <tr>\n",
              "      <th>0</th>\n",
              "      <td>NaN</td>\n",
              "      <td>NaN</td>\n",
              "      <td>NaN</td>\n",
              "      <td>Afghanistan</td>\n",
              "      <td>2021-01-02 05:22:33</td>\n",
              "      <td>33.93911</td>\n",
              "      <td>67.709953</td>\n",
              "      <td>51526</td>\n",
              "      <td>2191</td>\n",
              "      <td>41727</td>\n",
              "      <td>0.0</td>\n",
              "      <td>Afghanistan</td>\n",
              "      <td>0.000000</td>\n",
              "      <td>4.252222</td>\n",
              "    </tr>\n",
              "    <tr>\n",
              "      <th>1</th>\n",
              "      <td>NaN</td>\n",
              "      <td>NaN</td>\n",
              "      <td>NaN</td>\n",
              "      <td>Albania</td>\n",
              "      <td>2021-01-02 05:22:33</td>\n",
              "      <td>41.15330</td>\n",
              "      <td>20.168300</td>\n",
              "      <td>58316</td>\n",
              "      <td>1181</td>\n",
              "      <td>33634</td>\n",
              "      <td>23501.0</td>\n",
              "      <td>Albania</td>\n",
              "      <td>2026.409062</td>\n",
              "      <td>2.025173</td>\n",
              "    </tr>\n",
              "    <tr>\n",
              "      <th>2</th>\n",
              "      <td>NaN</td>\n",
              "      <td>NaN</td>\n",
              "      <td>NaN</td>\n",
              "      <td>Algeria</td>\n",
              "      <td>2021-01-02 05:22:33</td>\n",
              "      <td>28.03390</td>\n",
              "      <td>1.659600</td>\n",
              "      <td>99897</td>\n",
              "      <td>2762</td>\n",
              "      <td>67395</td>\n",
              "      <td>29740.0</td>\n",
              "      <td>Algeria</td>\n",
              "      <td>227.809861</td>\n",
              "      <td>2.764848</td>\n",
              "    </tr>\n",
              "    <tr>\n",
              "      <th>3</th>\n",
              "      <td>NaN</td>\n",
              "      <td>NaN</td>\n",
              "      <td>NaN</td>\n",
              "      <td>Andorra</td>\n",
              "      <td>2021-01-02 05:22:33</td>\n",
              "      <td>42.50630</td>\n",
              "      <td>1.521800</td>\n",
              "      <td>8117</td>\n",
              "      <td>84</td>\n",
              "      <td>7463</td>\n",
              "      <td>570.0</td>\n",
              "      <td>Andorra</td>\n",
              "      <td>10505.403482</td>\n",
              "      <td>1.034865</td>\n",
              "    </tr>\n",
              "    <tr>\n",
              "      <th>4</th>\n",
              "      <td>NaN</td>\n",
              "      <td>NaN</td>\n",
              "      <td>NaN</td>\n",
              "      <td>Angola</td>\n",
              "      <td>2021-01-02 05:22:33</td>\n",
              "      <td>-11.20270</td>\n",
              "      <td>17.873900</td>\n",
              "      <td>17568</td>\n",
              "      <td>405</td>\n",
              "      <td>11146</td>\n",
              "      <td>6017.0</td>\n",
              "      <td>Angola</td>\n",
              "      <td>53.452981</td>\n",
              "      <td>2.305328</td>\n",
              "    </tr>\n",
              "    <tr>\n",
              "      <th>...</th>\n",
              "      <td>...</td>\n",
              "      <td>...</td>\n",
              "      <td>...</td>\n",
              "      <td>...</td>\n",
              "      <td>...</td>\n",
              "      <td>...</td>\n",
              "      <td>...</td>\n",
              "      <td>...</td>\n",
              "      <td>...</td>\n",
              "      <td>...</td>\n",
              "      <td>...</td>\n",
              "      <td>...</td>\n",
              "      <td>...</td>\n",
              "      <td>...</td>\n",
              "    </tr>\n",
              "    <tr>\n",
              "      <th>3979</th>\n",
              "      <td>NaN</td>\n",
              "      <td>NaN</td>\n",
              "      <td>Unknown</td>\n",
              "      <td>China</td>\n",
              "      <td>2021-01-02 05:22:33</td>\n",
              "      <td>NaN</td>\n",
              "      <td>NaN</td>\n",
              "      <td>0</td>\n",
              "      <td>0</td>\n",
              "      <td>0</td>\n",
              "      <td>0.0</td>\n",
              "      <td>Unknown, China</td>\n",
              "      <td>0.000000</td>\n",
              "      <td>0.000000</td>\n",
              "    </tr>\n",
              "    <tr>\n",
              "      <th>3980</th>\n",
              "      <td>NaN</td>\n",
              "      <td>NaN</td>\n",
              "      <td>NaN</td>\n",
              "      <td>Kiribati</td>\n",
              "      <td>2021-01-02 05:22:33</td>\n",
              "      <td>-3.37040</td>\n",
              "      <td>-168.734000</td>\n",
              "      <td>0</td>\n",
              "      <td>0</td>\n",
              "      <td>0</td>\n",
              "      <td>0.0</td>\n",
              "      <td>Kiribati</td>\n",
              "      <td>0.000000</td>\n",
              "      <td>0.000000</td>\n",
              "    </tr>\n",
              "    <tr>\n",
              "      <th>3981</th>\n",
              "      <td>NaN</td>\n",
              "      <td>NaN</td>\n",
              "      <td>NaN</td>\n",
              "      <td>Palau</td>\n",
              "      <td>2021-01-02 05:22:33</td>\n",
              "      <td>7.51500</td>\n",
              "      <td>134.582500</td>\n",
              "      <td>0</td>\n",
              "      <td>0</td>\n",
              "      <td>0</td>\n",
              "      <td>0.0</td>\n",
              "      <td>Palau</td>\n",
              "      <td>0.000000</td>\n",
              "      <td>0.000000</td>\n",
              "    </tr>\n",
              "    <tr>\n",
              "      <th>3982</th>\n",
              "      <td>NaN</td>\n",
              "      <td>NaN</td>\n",
              "      <td>Cook Islands</td>\n",
              "      <td>New Zealand</td>\n",
              "      <td>2021-01-02 05:22:33</td>\n",
              "      <td>-21.23670</td>\n",
              "      <td>-159.777700</td>\n",
              "      <td>0</td>\n",
              "      <td>0</td>\n",
              "      <td>0</td>\n",
              "      <td>0.0</td>\n",
              "      <td>Cook Islands, New Zealand</td>\n",
              "      <td>0.000000</td>\n",
              "      <td>0.000000</td>\n",
              "    </tr>\n",
              "    <tr>\n",
              "      <th>3983</th>\n",
              "      <td>NaN</td>\n",
              "      <td>NaN</td>\n",
              "      <td>NaN</td>\n",
              "      <td>Summer Olympics 2020</td>\n",
              "      <td>2021-01-02 05:22:33</td>\n",
              "      <td>35.64910</td>\n",
              "      <td>139.773700</td>\n",
              "      <td>0</td>\n",
              "      <td>0</td>\n",
              "      <td>0</td>\n",
              "      <td>0.0</td>\n",
              "      <td>Summer Olympics 2020</td>\n",
              "      <td>0.000000</td>\n",
              "      <td>0.000000</td>\n",
              "    </tr>\n",
              "  </tbody>\n",
              "</table>\n",
              "<p>3984 rows × 14 columns</p>\n",
              "</div>"
            ],
            "text/plain": [
              "      FIPS Admin2  ... Incident_Rate Case_Fatality_Ratio\n",
              "0      NaN    NaN  ...      0.000000            4.252222\n",
              "1      NaN    NaN  ...   2026.409062            2.025173\n",
              "2      NaN    NaN  ...    227.809861            2.764848\n",
              "3      NaN    NaN  ...  10505.403482            1.034865\n",
              "4      NaN    NaN  ...     53.452981            2.305328\n",
              "...    ...    ...  ...           ...                 ...\n",
              "3979   NaN    NaN  ...      0.000000            0.000000\n",
              "3980   NaN    NaN  ...      0.000000            0.000000\n",
              "3981   NaN    NaN  ...      0.000000            0.000000\n",
              "3982   NaN    NaN  ...      0.000000            0.000000\n",
              "3983   NaN    NaN  ...      0.000000            0.000000\n",
              "\n",
              "[3984 rows x 14 columns]"
            ]
          },
          "metadata": {
            "tags": []
          },
          "execution_count": 1
        }
      ]
    },
    {
      "cell_type": "code",
      "metadata": {
        "id": "70EsUtCqaPYf"
      },
      "source": [
        "# 2. Show the top 5 rows of the dataframe."
      ],
      "execution_count": null,
      "outputs": []
    },
    {
      "cell_type": "code",
      "metadata": {
        "colab": {
          "base_uri": "https://localhost:8080/",
          "height": 309
        },
        "id": "QVWGh9wTMZZz",
        "outputId": "95fc6692-990d-424a-9f5e-2bef412b13f8"
      },
      "source": [
        "covid19.head(5)"
      ],
      "execution_count": null,
      "outputs": [
        {
          "output_type": "execute_result",
          "data": {
            "text/html": [
              "<div>\n",
              "<style scoped>\n",
              "    .dataframe tbody tr th:only-of-type {\n",
              "        vertical-align: middle;\n",
              "    }\n",
              "\n",
              "    .dataframe tbody tr th {\n",
              "        vertical-align: top;\n",
              "    }\n",
              "\n",
              "    .dataframe thead th {\n",
              "        text-align: right;\n",
              "    }\n",
              "</style>\n",
              "<table border=\"1\" class=\"dataframe\">\n",
              "  <thead>\n",
              "    <tr style=\"text-align: right;\">\n",
              "      <th></th>\n",
              "      <th>FIPS</th>\n",
              "      <th>Admin2</th>\n",
              "      <th>Province_State</th>\n",
              "      <th>Country_Region</th>\n",
              "      <th>Last_Update</th>\n",
              "      <th>Lat</th>\n",
              "      <th>Long_</th>\n",
              "      <th>Confirmed</th>\n",
              "      <th>Deaths</th>\n",
              "      <th>Recovered</th>\n",
              "      <th>Active</th>\n",
              "      <th>Combined_Key</th>\n",
              "      <th>Incident_Rate</th>\n",
              "      <th>Case_Fatality_Ratio</th>\n",
              "    </tr>\n",
              "  </thead>\n",
              "  <tbody>\n",
              "    <tr>\n",
              "      <th>0</th>\n",
              "      <td>NaN</td>\n",
              "      <td>NaN</td>\n",
              "      <td>NaN</td>\n",
              "      <td>Afghanistan</td>\n",
              "      <td>2021-01-02 05:22:33</td>\n",
              "      <td>33.93911</td>\n",
              "      <td>67.709953</td>\n",
              "      <td>51526</td>\n",
              "      <td>2191</td>\n",
              "      <td>41727</td>\n",
              "      <td>0.0</td>\n",
              "      <td>Afghanistan</td>\n",
              "      <td>0.000000</td>\n",
              "      <td>4.252222</td>\n",
              "    </tr>\n",
              "    <tr>\n",
              "      <th>1</th>\n",
              "      <td>NaN</td>\n",
              "      <td>NaN</td>\n",
              "      <td>NaN</td>\n",
              "      <td>Albania</td>\n",
              "      <td>2021-01-02 05:22:33</td>\n",
              "      <td>41.15330</td>\n",
              "      <td>20.168300</td>\n",
              "      <td>58316</td>\n",
              "      <td>1181</td>\n",
              "      <td>33634</td>\n",
              "      <td>23501.0</td>\n",
              "      <td>Albania</td>\n",
              "      <td>2026.409062</td>\n",
              "      <td>2.025173</td>\n",
              "    </tr>\n",
              "    <tr>\n",
              "      <th>2</th>\n",
              "      <td>NaN</td>\n",
              "      <td>NaN</td>\n",
              "      <td>NaN</td>\n",
              "      <td>Algeria</td>\n",
              "      <td>2021-01-02 05:22:33</td>\n",
              "      <td>28.03390</td>\n",
              "      <td>1.659600</td>\n",
              "      <td>99897</td>\n",
              "      <td>2762</td>\n",
              "      <td>67395</td>\n",
              "      <td>29740.0</td>\n",
              "      <td>Algeria</td>\n",
              "      <td>227.809861</td>\n",
              "      <td>2.764848</td>\n",
              "    </tr>\n",
              "    <tr>\n",
              "      <th>3</th>\n",
              "      <td>NaN</td>\n",
              "      <td>NaN</td>\n",
              "      <td>NaN</td>\n",
              "      <td>Andorra</td>\n",
              "      <td>2021-01-02 05:22:33</td>\n",
              "      <td>42.50630</td>\n",
              "      <td>1.521800</td>\n",
              "      <td>8117</td>\n",
              "      <td>84</td>\n",
              "      <td>7463</td>\n",
              "      <td>570.0</td>\n",
              "      <td>Andorra</td>\n",
              "      <td>10505.403482</td>\n",
              "      <td>1.034865</td>\n",
              "    </tr>\n",
              "    <tr>\n",
              "      <th>4</th>\n",
              "      <td>NaN</td>\n",
              "      <td>NaN</td>\n",
              "      <td>NaN</td>\n",
              "      <td>Angola</td>\n",
              "      <td>2021-01-02 05:22:33</td>\n",
              "      <td>-11.20270</td>\n",
              "      <td>17.873900</td>\n",
              "      <td>17568</td>\n",
              "      <td>405</td>\n",
              "      <td>11146</td>\n",
              "      <td>6017.0</td>\n",
              "      <td>Angola</td>\n",
              "      <td>53.452981</td>\n",
              "      <td>2.305328</td>\n",
              "    </tr>\n",
              "  </tbody>\n",
              "</table>\n",
              "</div>"
            ],
            "text/plain": [
              "   FIPS Admin2 Province_State  ... Combined_Key Incident_Rate  Case_Fatality_Ratio\n",
              "0   NaN    NaN            NaN  ...  Afghanistan      0.000000             4.252222\n",
              "1   NaN    NaN            NaN  ...      Albania   2026.409062             2.025173\n",
              "2   NaN    NaN            NaN  ...      Algeria    227.809861             2.764848\n",
              "3   NaN    NaN            NaN  ...      Andorra  10505.403482             1.034865\n",
              "4   NaN    NaN            NaN  ...       Angola     53.452981             2.305328\n",
              "\n",
              "[5 rows x 14 columns]"
            ]
          },
          "metadata": {
            "tags": []
          },
          "execution_count": 2
        }
      ]
    },
    {
      "cell_type": "code",
      "metadata": {
        "id": "ESW0DAXuaT9t"
      },
      "source": [
        "# 3)Show the summary statistic of the data.\n",
        "# The summary statistic should look like the following."
      ],
      "execution_count": null,
      "outputs": []
    },
    {
      "cell_type": "code",
      "metadata": {
        "colab": {
          "base_uri": "https://localhost:8080/"
        },
        "id": "qJcs6J6fMdxO",
        "outputId": "b6d0a8e0-6a88-4ac5-fc47-7b41c8b27929"
      },
      "source": [
        "covid19.count()"
      ],
      "execution_count": null,
      "outputs": [
        {
          "output_type": "execute_result",
          "data": {
            "text/plain": [
              "FIPS                   3265\n",
              "Admin2                 3270\n",
              "Province_State         3811\n",
              "Country_Region         3984\n",
              "Last_Update            3984\n",
              "Lat                    3897\n",
              "Long_                  3897\n",
              "Confirmed              3984\n",
              "Deaths                 3984\n",
              "Recovered              3984\n",
              "Active                 3983\n",
              "Combined_Key           3984\n",
              "Incident_Rate          3895\n",
              "Case_Fatality_Ratio    3940\n",
              "dtype: int64"
            ]
          },
          "metadata": {
            "tags": []
          },
          "execution_count": 2
        }
      ]
    },
    {
      "cell_type": "code",
      "metadata": {
        "colab": {
          "base_uri": "https://localhost:8080/"
        },
        "id": "gcHnOZ8lOBeQ",
        "outputId": "fca0adc1-d34a-454c-c678-3f6ad2560d47"
      },
      "source": [
        "covid19.mean()"
      ],
      "execution_count": null,
      "outputs": [
        {
          "output_type": "execute_result",
          "data": {
            "text/plain": [
              "FIPS                   32386.688208\n",
              "Lat                       35.973564\n",
              "Long_                    -72.005376\n",
              "Confirmed              21107.878514\n",
              "Deaths                   474.467620\n",
              "Recovered              11875.754267\n",
              "Active                  8748.281948\n",
              "Incident_Rate           5770.649567\n",
              "Case_Fatality_Ratio        1.939365\n",
              "dtype: float64"
            ]
          },
          "metadata": {
            "tags": []
          },
          "execution_count": 3
        }
      ]
    },
    {
      "cell_type": "code",
      "metadata": {
        "colab": {
          "base_uri": "https://localhost:8080/"
        },
        "id": "gV-YvWr8OMOj",
        "outputId": "e7b719f8-f0c5-4d11-bae8-ea16a5049423"
      },
      "source": [
        "covid19.std()"
      ],
      "execution_count": null,
      "outputs": [
        {
          "output_type": "execute_result",
          "data": {
            "text/plain": [
              "FIPS                    18017.294540\n",
              "Lat                        13.043953\n",
              "Long_                      53.751137\n",
              "Confirmed              105752.275199\n",
              "Deaths                   2729.271632\n",
              "Recovered               82218.506911\n",
              "Active                  61805.594922\n",
              "Incident_Rate            3208.655754\n",
              "Case_Fatality_Ratio         5.493363\n",
              "dtype: float64"
            ]
          },
          "metadata": {
            "tags": []
          },
          "execution_count": 4
        }
      ]
    },
    {
      "cell_type": "code",
      "metadata": {
        "colab": {
          "base_uri": "https://localhost:8080/"
        },
        "id": "9bCNB1vJOQEr",
        "outputId": "3db87671-22c1-400a-c728-5eb68d8f591f"
      },
      "source": [
        "covid19.min()"
      ],
      "execution_count": null,
      "outputs": [
        {
          "output_type": "execute_result",
          "data": {
            "text/plain": [
              "FIPS                                              66\n",
              "Country_Region                           Afghanistan\n",
              "Last_Update                      2020-08-04 02:27:56\n",
              "Lat                                          -52.368\n",
              "Long_                                        -174.16\n",
              "Confirmed                                          0\n",
              "Deaths                                             0\n",
              "Recovered                                          0\n",
              "Active                                  -1.08377e+06\n",
              "Combined_Key           Abbeville, South Carolina, US\n",
              "Incident_Rate                                      0\n",
              "Case_Fatality_Ratio                                0\n",
              "dtype: object"
            ]
          },
          "metadata": {
            "tags": []
          },
          "execution_count": 5
        }
      ]
    },
    {
      "cell_type": "code",
      "metadata": {
        "colab": {
          "base_uri": "https://localhost:8080/",
          "height": 142
        },
        "id": "6lN-qC9FOWSJ",
        "outputId": "6ce378cc-288f-43ab-f650-62d8727c6ec0"
      },
      "source": [
        "covid19.quantile([ 0.25, 0.5, 0.75,])"
      ],
      "execution_count": null,
      "outputs": [
        {
          "output_type": "execute_result",
          "data": {
            "text/html": [
              "<div>\n",
              "<style scoped>\n",
              "    .dataframe tbody tr th:only-of-type {\n",
              "        vertical-align: middle;\n",
              "    }\n",
              "\n",
              "    .dataframe tbody tr th {\n",
              "        vertical-align: top;\n",
              "    }\n",
              "\n",
              "    .dataframe thead th {\n",
              "        text-align: right;\n",
              "    }\n",
              "</style>\n",
              "<table border=\"1\" class=\"dataframe\">\n",
              "  <thead>\n",
              "    <tr style=\"text-align: right;\">\n",
              "      <th></th>\n",
              "      <th>FIPS</th>\n",
              "      <th>Lat</th>\n",
              "      <th>Long_</th>\n",
              "      <th>Confirmed</th>\n",
              "      <th>Deaths</th>\n",
              "      <th>Recovered</th>\n",
              "      <th>Active</th>\n",
              "      <th>Incident_Rate</th>\n",
              "      <th>Case_Fatality_Ratio</th>\n",
              "    </tr>\n",
              "  </thead>\n",
              "  <tbody>\n",
              "    <tr>\n",
              "      <th>0.25</th>\n",
              "      <td>19049.0</td>\n",
              "      <td>33.268798</td>\n",
              "      <td>-96.616867</td>\n",
              "      <td>700.00</td>\n",
              "      <td>9.0</td>\n",
              "      <td>0.0</td>\n",
              "      <td>591.0</td>\n",
              "      <td>3599.272506</td>\n",
              "      <td>0.969272</td>\n",
              "    </tr>\n",
              "    <tr>\n",
              "      <th>0.50</th>\n",
              "      <td>30067.0</td>\n",
              "      <td>37.946365</td>\n",
              "      <td>-86.854759</td>\n",
              "      <td>1964.00</td>\n",
              "      <td>32.0</td>\n",
              "      <td>0.0</td>\n",
              "      <td>1663.0</td>\n",
              "      <td>5851.131858</td>\n",
              "      <td>1.540464</td>\n",
              "    </tr>\n",
              "    <tr>\n",
              "      <th>0.75</th>\n",
              "      <td>47039.0</td>\n",
              "      <td>42.220792</td>\n",
              "      <td>-77.492245</td>\n",
              "      <td>7721.75</td>\n",
              "      <td>114.0</td>\n",
              "      <td>0.0</td>\n",
              "      <td>4926.0</td>\n",
              "      <td>7762.999138</td>\n",
              "      <td>2.310092</td>\n",
              "    </tr>\n",
              "  </tbody>\n",
              "</table>\n",
              "</div>"
            ],
            "text/plain": [
              "         FIPS        Lat      Long_  ...  Active  Incident_Rate  Case_Fatality_Ratio\n",
              "0.25  19049.0  33.268798 -96.616867  ...   591.0    3599.272506             0.969272\n",
              "0.50  30067.0  37.946365 -86.854759  ...  1663.0    5851.131858             1.540464\n",
              "0.75  47039.0  42.220792 -77.492245  ...  4926.0    7762.999138             2.310092\n",
              "\n",
              "[3 rows x 9 columns]"
            ]
          },
          "metadata": {
            "tags": []
          },
          "execution_count": 6
        }
      ]
    },
    {
      "cell_type": "code",
      "metadata": {
        "colab": {
          "base_uri": "https://localhost:8080/"
        },
        "id": "Qe6I8a3vQrZa",
        "outputId": "dca9f3d2-4303-4fdc-e38f-f00d4d29b7ab"
      },
      "source": [
        "covid19.max()"
      ],
      "execution_count": null,
      "outputs": [
        {
          "output_type": "execute_result",
          "data": {
            "text/plain": [
              "FIPS                                       99999\n",
              "Country_Region                          Zimbabwe\n",
              "Last_Update                  2021-04-02 15:13:53\n",
              "Lat                                      71.7069\n",
              "Long_                                    178.065\n",
              "Confirmed                                2636045\n",
              "Deaths                                     64731\n",
              "Recovered                                2114760\n",
              "Active                               2.40075e+06\n",
              "Combined_Key           Zuid-Holland, Netherlands\n",
              "Incident_Rate                            27388.2\n",
              "Case_Fatality_Ratio                      271.875\n",
              "dtype: object"
            ]
          },
          "metadata": {
            "tags": []
          },
          "execution_count": 7
        }
      ]
    },
    {
      "cell_type": "code",
      "metadata": {
        "colab": {
          "base_uri": "https://localhost:8080/",
          "height": 297
        },
        "id": "eMokSKu1UHJ4",
        "outputId": "fecb69fd-c553-4c0d-c7d1-d37c2bd631df"
      },
      "source": [
        "covid19.describe()"
      ],
      "execution_count": null,
      "outputs": [
        {
          "output_type": "execute_result",
          "data": {
            "text/html": [
              "<div>\n",
              "<style scoped>\n",
              "    .dataframe tbody tr th:only-of-type {\n",
              "        vertical-align: middle;\n",
              "    }\n",
              "\n",
              "    .dataframe tbody tr th {\n",
              "        vertical-align: top;\n",
              "    }\n",
              "\n",
              "    .dataframe thead th {\n",
              "        text-align: right;\n",
              "    }\n",
              "</style>\n",
              "<table border=\"1\" class=\"dataframe\">\n",
              "  <thead>\n",
              "    <tr style=\"text-align: right;\">\n",
              "      <th></th>\n",
              "      <th>FIPS</th>\n",
              "      <th>Lat</th>\n",
              "      <th>Long_</th>\n",
              "      <th>Confirmed</th>\n",
              "      <th>Deaths</th>\n",
              "      <th>Recovered</th>\n",
              "      <th>Active</th>\n",
              "      <th>Incident_Rate</th>\n",
              "      <th>Case_Fatality_Ratio</th>\n",
              "    </tr>\n",
              "  </thead>\n",
              "  <tbody>\n",
              "    <tr>\n",
              "      <th>count</th>\n",
              "      <td>3265.000000</td>\n",
              "      <td>3897.000000</td>\n",
              "      <td>3897.000000</td>\n",
              "      <td>3.984000e+03</td>\n",
              "      <td>3984.000000</td>\n",
              "      <td>3.984000e+03</td>\n",
              "      <td>3.983000e+03</td>\n",
              "      <td>3895.000000</td>\n",
              "      <td>3940.000000</td>\n",
              "    </tr>\n",
              "    <tr>\n",
              "      <th>mean</th>\n",
              "      <td>32386.688208</td>\n",
              "      <td>35.973564</td>\n",
              "      <td>-72.005376</td>\n",
              "      <td>2.110788e+04</td>\n",
              "      <td>474.467620</td>\n",
              "      <td>1.187575e+04</td>\n",
              "      <td>8.748282e+03</td>\n",
              "      <td>5770.649567</td>\n",
              "      <td>1.939365</td>\n",
              "    </tr>\n",
              "    <tr>\n",
              "      <th>std</th>\n",
              "      <td>18017.294540</td>\n",
              "      <td>13.043953</td>\n",
              "      <td>53.751137</td>\n",
              "      <td>1.057523e+05</td>\n",
              "      <td>2729.271632</td>\n",
              "      <td>8.221851e+04</td>\n",
              "      <td>6.180559e+04</td>\n",
              "      <td>3208.655754</td>\n",
              "      <td>5.493363</td>\n",
              "    </tr>\n",
              "    <tr>\n",
              "      <th>min</th>\n",
              "      <td>66.000000</td>\n",
              "      <td>-52.368000</td>\n",
              "      <td>-174.159600</td>\n",
              "      <td>0.000000e+00</td>\n",
              "      <td>0.000000</td>\n",
              "      <td>0.000000e+00</td>\n",
              "      <td>-1.083768e+06</td>\n",
              "      <td>0.000000</td>\n",
              "      <td>0.000000</td>\n",
              "    </tr>\n",
              "    <tr>\n",
              "      <th>25%</th>\n",
              "      <td>19049.000000</td>\n",
              "      <td>33.268798</td>\n",
              "      <td>-96.616867</td>\n",
              "      <td>7.000000e+02</td>\n",
              "      <td>9.000000</td>\n",
              "      <td>0.000000e+00</td>\n",
              "      <td>5.910000e+02</td>\n",
              "      <td>3599.272506</td>\n",
              "      <td>0.969272</td>\n",
              "    </tr>\n",
              "    <tr>\n",
              "      <th>50%</th>\n",
              "      <td>30067.000000</td>\n",
              "      <td>37.946365</td>\n",
              "      <td>-86.854759</td>\n",
              "      <td>1.964000e+03</td>\n",
              "      <td>32.000000</td>\n",
              "      <td>0.000000e+00</td>\n",
              "      <td>1.663000e+03</td>\n",
              "      <td>5851.131858</td>\n",
              "      <td>1.540464</td>\n",
              "    </tr>\n",
              "    <tr>\n",
              "      <th>75%</th>\n",
              "      <td>47039.000000</td>\n",
              "      <td>42.220792</td>\n",
              "      <td>-77.492245</td>\n",
              "      <td>7.721750e+03</td>\n",
              "      <td>114.000000</td>\n",
              "      <td>0.000000e+00</td>\n",
              "      <td>4.926000e+03</td>\n",
              "      <td>7762.999138</td>\n",
              "      <td>2.310092</td>\n",
              "    </tr>\n",
              "    <tr>\n",
              "      <th>max</th>\n",
              "      <td>99999.000000</td>\n",
              "      <td>71.706900</td>\n",
              "      <td>178.065000</td>\n",
              "      <td>2.636045e+06</td>\n",
              "      <td>64731.000000</td>\n",
              "      <td>2.114760e+06</td>\n",
              "      <td>2.400750e+06</td>\n",
              "      <td>27388.219766</td>\n",
              "      <td>271.875000</td>\n",
              "    </tr>\n",
              "  </tbody>\n",
              "</table>\n",
              "</div>"
            ],
            "text/plain": [
              "               FIPS          Lat  ...  Incident_Rate  Case_Fatality_Ratio\n",
              "count   3265.000000  3897.000000  ...    3895.000000          3940.000000\n",
              "mean   32386.688208    35.973564  ...    5770.649567             1.939365\n",
              "std    18017.294540    13.043953  ...    3208.655754             5.493363\n",
              "min       66.000000   -52.368000  ...       0.000000             0.000000\n",
              "25%    19049.000000    33.268798  ...    3599.272506             0.969272\n",
              "50%    30067.000000    37.946365  ...    5851.131858             1.540464\n",
              "75%    47039.000000    42.220792  ...    7762.999138             2.310092\n",
              "max    99999.000000    71.706900  ...   27388.219766           271.875000\n",
              "\n",
              "[8 rows x 9 columns]"
            ]
          },
          "metadata": {
            "tags": []
          },
          "execution_count": 8
        }
      ]
    },
    {
      "cell_type": "code",
      "metadata": {
        "colab": {
          "base_uri": "https://localhost:8080/"
        },
        "id": "P4wslNpjRSTX",
        "outputId": "90b112e4-9bf5-49b4-8646-893791860419"
      },
      "source": [
        "# 4. Show the info of the data. The result should look like the following.\n",
        "covid19.info()"
      ],
      "execution_count": null,
      "outputs": [
        {
          "output_type": "stream",
          "text": [
            "<class 'pandas.core.frame.DataFrame'>\n",
            "RangeIndex: 3984 entries, 0 to 3983\n",
            "Data columns (total 14 columns):\n",
            " #   Column               Non-Null Count  Dtype  \n",
            "---  ------               --------------  -----  \n",
            " 0   FIPS                 3265 non-null   float64\n",
            " 1   Admin2               3270 non-null   object \n",
            " 2   Province_State       3811 non-null   object \n",
            " 3   Country_Region       3984 non-null   object \n",
            " 4   Last_Update          3984 non-null   object \n",
            " 5   Lat                  3897 non-null   float64\n",
            " 6   Long_                3897 non-null   float64\n",
            " 7   Confirmed            3984 non-null   int64  \n",
            " 8   Deaths               3984 non-null   int64  \n",
            " 9   Recovered            3984 non-null   int64  \n",
            " 10  Active               3983 non-null   float64\n",
            " 11  Combined_Key         3984 non-null   object \n",
            " 12  Incident_Rate        3895 non-null   float64\n",
            " 13  Case_Fatality_Ratio  3940 non-null   float64\n",
            "dtypes: float64(6), int64(3), object(5)\n",
            "memory usage: 435.9+ KB\n"
          ],
          "name": "stdout"
        }
      ]
    },
    {
      "cell_type": "code",
      "metadata": {
        "colab": {
          "base_uri": "https://localhost:8080/"
        },
        "id": "oWwrvdpxRexp",
        "outputId": "31484f7e-3eee-4be4-efb7-32d5b8d35664"
      },
      "source": [
        "# 5. Show the number of null values in each column as follows.\n",
        "covid19.isnull().sum()"
      ],
      "execution_count": null,
      "outputs": [
        {
          "output_type": "execute_result",
          "data": {
            "text/plain": [
              "FIPS                   719\n",
              "Admin2                 714\n",
              "Province_State         173\n",
              "Country_Region           0\n",
              "Last_Update              0\n",
              "Lat                     87\n",
              "Long_                   87\n",
              "Confirmed                0\n",
              "Deaths                   0\n",
              "Recovered                0\n",
              "Active                   1\n",
              "Combined_Key             0\n",
              "Incident_Rate           89\n",
              "Case_Fatality_Ratio     44\n",
              "dtype: int64"
            ]
          },
          "metadata": {
            "tags": []
          },
          "execution_count": 18
        }
      ]
    },
    {
      "cell_type": "code",
      "metadata": {
        "colab": {
          "base_uri": "https://localhost:8080/",
          "height": 114
        },
        "id": "v-FT7k6Ob4FX",
        "outputId": "70ee5d70-1c44-456b-9469-a7db0cb7010a"
      },
      "source": [
        "# 6. We see that there is one null value on ‘Active’ column. Show the row that contains the \n",
        "# null value in the ‘Active’ column as follows.\n",
        "covid19[covid19['Active'].isnull()]"
      ],
      "execution_count": null,
      "outputs": [
        {
          "output_type": "execute_result",
          "data": {
            "text/html": [
              "<div>\n",
              "<style scoped>\n",
              "    .dataframe tbody tr th:only-of-type {\n",
              "        vertical-align: middle;\n",
              "    }\n",
              "\n",
              "    .dataframe tbody tr th {\n",
              "        vertical-align: top;\n",
              "    }\n",
              "\n",
              "    .dataframe thead th {\n",
              "        text-align: right;\n",
              "    }\n",
              "</style>\n",
              "<table border=\"1\" class=\"dataframe\">\n",
              "  <thead>\n",
              "    <tr style=\"text-align: right;\">\n",
              "      <th></th>\n",
              "      <th>FIPS</th>\n",
              "      <th>Admin2</th>\n",
              "      <th>Province_State</th>\n",
              "      <th>Country_Region</th>\n",
              "      <th>Last_Update</th>\n",
              "      <th>Lat</th>\n",
              "      <th>Long_</th>\n",
              "      <th>Confirmed</th>\n",
              "      <th>Deaths</th>\n",
              "      <th>Recovered</th>\n",
              "      <th>Active</th>\n",
              "      <th>Combined_Key</th>\n",
              "      <th>Incident_Rate</th>\n",
              "      <th>Case_Fatality_Ratio</th>\n",
              "    </tr>\n",
              "  </thead>\n",
              "  <tbody>\n",
              "    <tr>\n",
              "      <th>78</th>\n",
              "      <td>NaN</td>\n",
              "      <td>NaN</td>\n",
              "      <td>Diamond Princess</td>\n",
              "      <td>Canada</td>\n",
              "      <td>2020-12-21 13:27:30</td>\n",
              "      <td>NaN</td>\n",
              "      <td>NaN</td>\n",
              "      <td>0</td>\n",
              "      <td>1</td>\n",
              "      <td>0</td>\n",
              "      <td>NaN</td>\n",
              "      <td>Diamond Princess, Canada</td>\n",
              "      <td>NaN</td>\n",
              "      <td>NaN</td>\n",
              "    </tr>\n",
              "  </tbody>\n",
              "</table>\n",
              "</div>"
            ],
            "text/plain": [
              "    FIPS Admin2  ... Incident_Rate Case_Fatality_Ratio\n",
              "78   NaN    NaN  ...           NaN                 NaN\n",
              "\n",
              "[1 rows x 14 columns]"
            ]
          },
          "metadata": {
            "tags": []
          },
          "execution_count": 3
        }
      ]
    },
    {
      "cell_type": "code",
      "metadata": {
        "id": "7UH8LxGccky1"
      },
      "source": [
        "# Ques 7 : Fill the null value on the ‘Active’ column with zero. And then verify that the null value on ‘Active’ has been filled with a zero."
      ],
      "execution_count": null,
      "outputs": []
    },
    {
      "cell_type": "code",
      "metadata": {
        "colab": {
          "base_uri": "https://localhost:8080/",
          "height": 134
        },
        "id": "_7ck4X_mcugb",
        "outputId": "c349adec-f08c-4cd6-9abf-066fecadc5e4"
      },
      "source": [
        "covid19[covid19['Active'].isnull()].fillna(0)"
      ],
      "execution_count": null,
      "outputs": [
        {
          "output_type": "execute_result",
          "data": {
            "text/html": [
              "<div>\n",
              "<style scoped>\n",
              "    .dataframe tbody tr th:only-of-type {\n",
              "        vertical-align: middle;\n",
              "    }\n",
              "\n",
              "    .dataframe tbody tr th {\n",
              "        vertical-align: top;\n",
              "    }\n",
              "\n",
              "    .dataframe thead th {\n",
              "        text-align: right;\n",
              "    }\n",
              "</style>\n",
              "<table border=\"1\" class=\"dataframe\">\n",
              "  <thead>\n",
              "    <tr style=\"text-align: right;\">\n",
              "      <th></th>\n",
              "      <th>FIPS</th>\n",
              "      <th>Admin2</th>\n",
              "      <th>Province_State</th>\n",
              "      <th>Country_Region</th>\n",
              "      <th>Last_Update</th>\n",
              "      <th>Lat</th>\n",
              "      <th>Long_</th>\n",
              "      <th>Confirmed</th>\n",
              "      <th>Deaths</th>\n",
              "      <th>Recovered</th>\n",
              "      <th>Active</th>\n",
              "      <th>Combined_Key</th>\n",
              "      <th>Incident_Rate</th>\n",
              "      <th>Case_Fatality_Ratio</th>\n",
              "    </tr>\n",
              "  </thead>\n",
              "  <tbody>\n",
              "    <tr>\n",
              "      <th>78</th>\n",
              "      <td>0.0</td>\n",
              "      <td>0</td>\n",
              "      <td>Diamond Princess</td>\n",
              "      <td>Canada</td>\n",
              "      <td>2020-12-21 13:27:30</td>\n",
              "      <td>0.0</td>\n",
              "      <td>0.0</td>\n",
              "      <td>0</td>\n",
              "      <td>1</td>\n",
              "      <td>0</td>\n",
              "      <td>0.0</td>\n",
              "      <td>Diamond Princess, Canada</td>\n",
              "      <td>0.0</td>\n",
              "      <td>0.0</td>\n",
              "    </tr>\n",
              "  </tbody>\n",
              "</table>\n",
              "</div>"
            ],
            "text/plain": [
              "    FIPS  Admin2  ... Incident_Rate Case_Fatality_Ratio\n",
              "78   0.0       0  ...           0.0                 0.0\n",
              "\n",
              "[1 rows x 14 columns]"
            ]
          },
          "metadata": {
            "tags": []
          },
          "execution_count": 20
        }
      ]
    },
    {
      "cell_type": "code",
      "metadata": {
        "id": "ChTpwMKjbFT-"
      },
      "source": [
        "# 8. Using Seaborn and Matplotlib, plot the histograms of logarithm of ‘Confirmed’, ‘Deaths’, \n",
        "# and ‘Recovered’ columns. \n",
        "# Follow the following steps:\n",
        "# I. for each of the columns, make sure that you exclude data with zero value. The \n",
        "# reason we exclude zero values is that when you take the logarithm of zero the \n",
        "# result is undefined.\n",
        "# II. Take the logarithm of the column data with the zero values excluded.\n",
        "# III. Plot the histogram\n",
        "# Your plot should look like the following with the legends and x-axis label exactly as shown"
      ],
      "execution_count": null,
      "outputs": []
    },
    {
      "cell_type": "code",
      "metadata": {
        "id": "YVU51fOrc6mM"
      },
      "source": [
        "import pandas as pd\n",
        "import numpy as np\n",
        "covid19[\"log_confirmed\"] = np.log10(covid19[covid19[\"Confirmed\"] != 0][\"Confirmed\"])\n",
        "covid19[\"log_deaths\"] = np.log10(covid19[covid19[\"Deaths\"] != 0][\"Deaths\"])\n",
        "covid19[\"log_Recovered\"] = np.log10(covid19[covid19[\"Recovered\"] != 0][\"Recovered\"])"
      ],
      "execution_count": null,
      "outputs": []
    },
    {
      "cell_type": "code",
      "metadata": {
        "colab": {
          "base_uri": "https://localhost:8080/",
          "height": 626
        },
        "id": "rWTNR33VdMl6",
        "outputId": "24b69396-eb99-4f36-8bcc-e9c349dc6573"
      },
      "source": [
        "covid19"
      ],
      "execution_count": null,
      "outputs": [
        {
          "output_type": "execute_result",
          "data": {
            "text/html": [
              "<div>\n",
              "<style scoped>\n",
              "    .dataframe tbody tr th:only-of-type {\n",
              "        vertical-align: middle;\n",
              "    }\n",
              "\n",
              "    .dataframe tbody tr th {\n",
              "        vertical-align: top;\n",
              "    }\n",
              "\n",
              "    .dataframe thead th {\n",
              "        text-align: right;\n",
              "    }\n",
              "</style>\n",
              "<table border=\"1\" class=\"dataframe\">\n",
              "  <thead>\n",
              "    <tr style=\"text-align: right;\">\n",
              "      <th></th>\n",
              "      <th>FIPS</th>\n",
              "      <th>Admin2</th>\n",
              "      <th>Province_State</th>\n",
              "      <th>Country_Region</th>\n",
              "      <th>Last_Update</th>\n",
              "      <th>Lat</th>\n",
              "      <th>Long_</th>\n",
              "      <th>Confirmed</th>\n",
              "      <th>Deaths</th>\n",
              "      <th>Recovered</th>\n",
              "      <th>Active</th>\n",
              "      <th>Combined_Key</th>\n",
              "      <th>Incident_Rate</th>\n",
              "      <th>Case_Fatality_Ratio</th>\n",
              "      <th>log_confirmed</th>\n",
              "      <th>log_deaths</th>\n",
              "      <th>log_Recovered</th>\n",
              "    </tr>\n",
              "  </thead>\n",
              "  <tbody>\n",
              "    <tr>\n",
              "      <th>0</th>\n",
              "      <td>NaN</td>\n",
              "      <td>NaN</td>\n",
              "      <td>NaN</td>\n",
              "      <td>Afghanistan</td>\n",
              "      <td>2021-01-02 05:22:33</td>\n",
              "      <td>33.93911</td>\n",
              "      <td>67.709953</td>\n",
              "      <td>51526</td>\n",
              "      <td>2191</td>\n",
              "      <td>41727</td>\n",
              "      <td>0.0</td>\n",
              "      <td>Afghanistan</td>\n",
              "      <td>0.000000</td>\n",
              "      <td>4.252222</td>\n",
              "      <td>4.712026</td>\n",
              "      <td>3.340642</td>\n",
              "      <td>4.620417</td>\n",
              "    </tr>\n",
              "    <tr>\n",
              "      <th>1</th>\n",
              "      <td>NaN</td>\n",
              "      <td>NaN</td>\n",
              "      <td>NaN</td>\n",
              "      <td>Albania</td>\n",
              "      <td>2021-01-02 05:22:33</td>\n",
              "      <td>41.15330</td>\n",
              "      <td>20.168300</td>\n",
              "      <td>58316</td>\n",
              "      <td>1181</td>\n",
              "      <td>33634</td>\n",
              "      <td>23501.0</td>\n",
              "      <td>Albania</td>\n",
              "      <td>2026.409062</td>\n",
              "      <td>2.025173</td>\n",
              "      <td>4.765788</td>\n",
              "      <td>3.072250</td>\n",
              "      <td>4.526779</td>\n",
              "    </tr>\n",
              "    <tr>\n",
              "      <th>2</th>\n",
              "      <td>NaN</td>\n",
              "      <td>NaN</td>\n",
              "      <td>NaN</td>\n",
              "      <td>Algeria</td>\n",
              "      <td>2021-01-02 05:22:33</td>\n",
              "      <td>28.03390</td>\n",
              "      <td>1.659600</td>\n",
              "      <td>99897</td>\n",
              "      <td>2762</td>\n",
              "      <td>67395</td>\n",
              "      <td>29740.0</td>\n",
              "      <td>Algeria</td>\n",
              "      <td>227.809861</td>\n",
              "      <td>2.764848</td>\n",
              "      <td>4.999552</td>\n",
              "      <td>3.441224</td>\n",
              "      <td>4.828628</td>\n",
              "    </tr>\n",
              "    <tr>\n",
              "      <th>3</th>\n",
              "      <td>NaN</td>\n",
              "      <td>NaN</td>\n",
              "      <td>NaN</td>\n",
              "      <td>Andorra</td>\n",
              "      <td>2021-01-02 05:22:33</td>\n",
              "      <td>42.50630</td>\n",
              "      <td>1.521800</td>\n",
              "      <td>8117</td>\n",
              "      <td>84</td>\n",
              "      <td>7463</td>\n",
              "      <td>570.0</td>\n",
              "      <td>Andorra</td>\n",
              "      <td>10505.403482</td>\n",
              "      <td>1.034865</td>\n",
              "      <td>3.909396</td>\n",
              "      <td>1.924279</td>\n",
              "      <td>3.872913</td>\n",
              "    </tr>\n",
              "    <tr>\n",
              "      <th>4</th>\n",
              "      <td>NaN</td>\n",
              "      <td>NaN</td>\n",
              "      <td>NaN</td>\n",
              "      <td>Angola</td>\n",
              "      <td>2021-01-02 05:22:33</td>\n",
              "      <td>-11.20270</td>\n",
              "      <td>17.873900</td>\n",
              "      <td>17568</td>\n",
              "      <td>405</td>\n",
              "      <td>11146</td>\n",
              "      <td>6017.0</td>\n",
              "      <td>Angola</td>\n",
              "      <td>53.452981</td>\n",
              "      <td>2.305328</td>\n",
              "      <td>4.244722</td>\n",
              "      <td>2.607455</td>\n",
              "      <td>4.047119</td>\n",
              "    </tr>\n",
              "    <tr>\n",
              "      <th>...</th>\n",
              "      <td>...</td>\n",
              "      <td>...</td>\n",
              "      <td>...</td>\n",
              "      <td>...</td>\n",
              "      <td>...</td>\n",
              "      <td>...</td>\n",
              "      <td>...</td>\n",
              "      <td>...</td>\n",
              "      <td>...</td>\n",
              "      <td>...</td>\n",
              "      <td>...</td>\n",
              "      <td>...</td>\n",
              "      <td>...</td>\n",
              "      <td>...</td>\n",
              "      <td>...</td>\n",
              "      <td>...</td>\n",
              "      <td>...</td>\n",
              "    </tr>\n",
              "    <tr>\n",
              "      <th>3979</th>\n",
              "      <td>NaN</td>\n",
              "      <td>NaN</td>\n",
              "      <td>Unknown</td>\n",
              "      <td>China</td>\n",
              "      <td>2021-01-02 05:22:33</td>\n",
              "      <td>NaN</td>\n",
              "      <td>NaN</td>\n",
              "      <td>0</td>\n",
              "      <td>0</td>\n",
              "      <td>0</td>\n",
              "      <td>0.0</td>\n",
              "      <td>Unknown, China</td>\n",
              "      <td>0.000000</td>\n",
              "      <td>0.000000</td>\n",
              "      <td>NaN</td>\n",
              "      <td>NaN</td>\n",
              "      <td>NaN</td>\n",
              "    </tr>\n",
              "    <tr>\n",
              "      <th>3980</th>\n",
              "      <td>NaN</td>\n",
              "      <td>NaN</td>\n",
              "      <td>NaN</td>\n",
              "      <td>Kiribati</td>\n",
              "      <td>2021-01-02 05:22:33</td>\n",
              "      <td>-3.37040</td>\n",
              "      <td>-168.734000</td>\n",
              "      <td>0</td>\n",
              "      <td>0</td>\n",
              "      <td>0</td>\n",
              "      <td>0.0</td>\n",
              "      <td>Kiribati</td>\n",
              "      <td>0.000000</td>\n",
              "      <td>0.000000</td>\n",
              "      <td>NaN</td>\n",
              "      <td>NaN</td>\n",
              "      <td>NaN</td>\n",
              "    </tr>\n",
              "    <tr>\n",
              "      <th>3981</th>\n",
              "      <td>NaN</td>\n",
              "      <td>NaN</td>\n",
              "      <td>NaN</td>\n",
              "      <td>Palau</td>\n",
              "      <td>2021-01-02 05:22:33</td>\n",
              "      <td>7.51500</td>\n",
              "      <td>134.582500</td>\n",
              "      <td>0</td>\n",
              "      <td>0</td>\n",
              "      <td>0</td>\n",
              "      <td>0.0</td>\n",
              "      <td>Palau</td>\n",
              "      <td>0.000000</td>\n",
              "      <td>0.000000</td>\n",
              "      <td>NaN</td>\n",
              "      <td>NaN</td>\n",
              "      <td>NaN</td>\n",
              "    </tr>\n",
              "    <tr>\n",
              "      <th>3982</th>\n",
              "      <td>NaN</td>\n",
              "      <td>NaN</td>\n",
              "      <td>Cook Islands</td>\n",
              "      <td>New Zealand</td>\n",
              "      <td>2021-01-02 05:22:33</td>\n",
              "      <td>-21.23670</td>\n",
              "      <td>-159.777700</td>\n",
              "      <td>0</td>\n",
              "      <td>0</td>\n",
              "      <td>0</td>\n",
              "      <td>0.0</td>\n",
              "      <td>Cook Islands, New Zealand</td>\n",
              "      <td>0.000000</td>\n",
              "      <td>0.000000</td>\n",
              "      <td>NaN</td>\n",
              "      <td>NaN</td>\n",
              "      <td>NaN</td>\n",
              "    </tr>\n",
              "    <tr>\n",
              "      <th>3983</th>\n",
              "      <td>NaN</td>\n",
              "      <td>NaN</td>\n",
              "      <td>NaN</td>\n",
              "      <td>Summer Olympics 2020</td>\n",
              "      <td>2021-01-02 05:22:33</td>\n",
              "      <td>35.64910</td>\n",
              "      <td>139.773700</td>\n",
              "      <td>0</td>\n",
              "      <td>0</td>\n",
              "      <td>0</td>\n",
              "      <td>0.0</td>\n",
              "      <td>Summer Olympics 2020</td>\n",
              "      <td>0.000000</td>\n",
              "      <td>0.000000</td>\n",
              "      <td>NaN</td>\n",
              "      <td>NaN</td>\n",
              "      <td>NaN</td>\n",
              "    </tr>\n",
              "  </tbody>\n",
              "</table>\n",
              "<p>3984 rows × 17 columns</p>\n",
              "</div>"
            ],
            "text/plain": [
              "      FIPS Admin2 Province_State  ... log_confirmed log_deaths  log_Recovered\n",
              "0      NaN    NaN            NaN  ...      4.712026   3.340642       4.620417\n",
              "1      NaN    NaN            NaN  ...      4.765788   3.072250       4.526779\n",
              "2      NaN    NaN            NaN  ...      4.999552   3.441224       4.828628\n",
              "3      NaN    NaN            NaN  ...      3.909396   1.924279       3.872913\n",
              "4      NaN    NaN            NaN  ...      4.244722   2.607455       4.047119\n",
              "...    ...    ...            ...  ...           ...        ...            ...\n",
              "3979   NaN    NaN        Unknown  ...           NaN        NaN            NaN\n",
              "3980   NaN    NaN            NaN  ...           NaN        NaN            NaN\n",
              "3981   NaN    NaN            NaN  ...           NaN        NaN            NaN\n",
              "3982   NaN    NaN   Cook Islands  ...           NaN        NaN            NaN\n",
              "3983   NaN    NaN            NaN  ...           NaN        NaN            NaN\n",
              "\n",
              "[3984 rows x 17 columns]"
            ]
          },
          "metadata": {
            "tags": []
          },
          "execution_count": 10
        }
      ]
    },
    {
      "cell_type": "code",
      "metadata": {
        "colab": {
          "base_uri": "https://localhost:8080/",
          "height": 279
        },
        "id": "EPXF9pyxeT8w",
        "outputId": "74d93da6-daf2-49c0-c452-4101bcc7087a"
      },
      "source": [
        " %matplotlib inline\n",
        "import matplotlib.pyplot as plt\n",
        "import seaborn as sns \n",
        "\n",
        "plt.hist(covid19[\"log_confirmed\"],bins=10,color='blue',label=\"Confirmed Cases\")\n",
        "plt.hist(covid19[\"log_deaths\"],bins=10,alpha =0.7, color='red',label=\"Death Cases\")\n",
        "plt.hist(covid19[\"log_Recovered\"],bins=10,alpha =0.8,color='green',label=\"Recovered Cases\")\n",
        "plt.legend()\n",
        "plt.xlabel(\"Log(Cases)\")\n",
        "plt.show()"
      ],
      "execution_count": null,
      "outputs": [
        {
          "output_type": "display_data",
          "data": {
            "image/png": "[encoded data removed]",
            "text/plain": [
              "<Figure size 432x288 with 1 Axes>"
            ]
          },
          "metadata": {
            "tags": [],
            "needs_background": "light"
          }
        }
      ]
    },
    {
      "cell_type": "code",
      "metadata": {
        "colab": {
          "base_uri": "https://localhost:8080/",
          "height": 312
        },
        "id": "18lZaxQXebGb",
        "outputId": "979be0d4-1f52-4529-8e08-6ede1aadf5fe"
      },
      "source": [
        "# 9.Plot the KDE plot of the logarithms of the columns 'Confirmed','Deaths',and 'Recovered' columns as follows.\n",
        "import numpy as np\n",
        "sns.kdeplot(covid19[\"log_confirmed\"],shade=True,gridsize=200)\n",
        "sns.kdeplot(covid19[\"log_deaths\"],shade=True,gridsize=200)\n",
        "sns.kdeplot(covid19[\"log_Recovered\"],shade=True,gridsize=200)\n",
        "plt.legend([\"Confirmed Cases\",\"Death Cases\",\"Recovered Cases\"])\n",
        "plt.xlabel(\"Log(Cases)\")\n",
        "plt.title(\"KDE Plots of Covid Cases\")\n"
      ],
      "execution_count": null,
      "outputs": [
        {
          "output_type": "execute_result",
          "data": {
            "text/plain": [
              "Text(0.5, 1.0, 'KDE Plots of Covid Cases')"
            ]
          },
          "metadata": {
            "tags": []
          },
          "execution_count": 12
        },
        {
          "output_type": "display_data",
          "data": {
            "image/png": "[encoded data removed]",
            "text/plain": [
              "<Figure size 432x288 with 1 Axes>"
            ]
          },
          "metadata": {
            "tags": [],
            "needs_background": "light"
          }
        }
      ]
    },
    {
      "cell_type": "code",
      "metadata": {
        "colab": {
          "base_uri": "https://localhost:8080/",
          "height": 390
        },
        "id": "k49BKy95ehsU",
        "outputId": "da210b6e-bfd9-4f38-d99a-e1af2beecc49"
      },
      "source": [
        "# 10. Show the top 10 countries ranked by Confirmed cases exactly as shown below\n",
        "import pandas as pd\n",
        "newdf = covid19.groupby('Country_Region')[['Confirmed', 'Deaths', 'Recovered']].sum().astype('int64').sort_values('Confirmed',ascending= False)\n",
        "newdf.head(10)"
      ],
      "execution_count": null,
      "outputs": [
        {
          "output_type": "execute_result",
          "data": {
            "text/html": [
              "<div>\n",
              "<style scoped>\n",
              "    .dataframe tbody tr th:only-of-type {\n",
              "        vertical-align: middle;\n",
              "    }\n",
              "\n",
              "    .dataframe tbody tr th {\n",
              "        vertical-align: top;\n",
              "    }\n",
              "\n",
              "    .dataframe thead th {\n",
              "        text-align: right;\n",
              "    }\n",
              "</style>\n",
              "<table border=\"1\" class=\"dataframe\">\n",
              "  <thead>\n",
              "    <tr style=\"text-align: right;\">\n",
              "      <th></th>\n",
              "      <th>Confirmed</th>\n",
              "      <th>Deaths</th>\n",
              "      <th>Recovered</th>\n",
              "    </tr>\n",
              "    <tr>\n",
              "      <th>Country_Region</th>\n",
              "      <th></th>\n",
              "      <th></th>\n",
              "      <th></th>\n",
              "    </tr>\n",
              "  </thead>\n",
              "  <tbody>\n",
              "    <tr>\n",
              "      <th>US</th>\n",
              "      <td>20254160</td>\n",
              "      <td>354366</td>\n",
              "      <td>0</td>\n",
              "    </tr>\n",
              "    <tr>\n",
              "      <th>India</th>\n",
              "      <td>10286709</td>\n",
              "      <td>148994</td>\n",
              "      <td>9883461</td>\n",
              "    </tr>\n",
              "    <tr>\n",
              "      <th>Brazil</th>\n",
              "      <td>7700578</td>\n",
              "      <td>195411</td>\n",
              "      <td>6855372</td>\n",
              "    </tr>\n",
              "    <tr>\n",
              "      <th>Russia</th>\n",
              "      <td>3153960</td>\n",
              "      <td>56798</td>\n",
              "      <td>2553467</td>\n",
              "    </tr>\n",
              "    <tr>\n",
              "      <th>France</th>\n",
              "      <td>2697014</td>\n",
              "      <td>64892</td>\n",
              "      <td>200822</td>\n",
              "    </tr>\n",
              "    <tr>\n",
              "      <th>United Kingdom</th>\n",
              "      <td>2549693</td>\n",
              "      <td>74237</td>\n",
              "      <td>5682</td>\n",
              "    </tr>\n",
              "    <tr>\n",
              "      <th>Turkey</th>\n",
              "      <td>2220855</td>\n",
              "      <td>21093</td>\n",
              "      <td>2114760</td>\n",
              "    </tr>\n",
              "    <tr>\n",
              "      <th>Italy</th>\n",
              "      <td>2129376</td>\n",
              "      <td>74621</td>\n",
              "      <td>1479988</td>\n",
              "    </tr>\n",
              "    <tr>\n",
              "      <th>Spain</th>\n",
              "      <td>1928265</td>\n",
              "      <td>50837</td>\n",
              "      <td>150376</td>\n",
              "    </tr>\n",
              "    <tr>\n",
              "      <th>Germany</th>\n",
              "      <td>1762637</td>\n",
              "      <td>34145</td>\n",
              "      <td>1388744</td>\n",
              "    </tr>\n",
              "  </tbody>\n",
              "</table>\n",
              "</div>"
            ],
            "text/plain": [
              "                Confirmed  Deaths  Recovered\n",
              "Country_Region                              \n",
              "US               20254160  354366          0\n",
              "India            10286709  148994    9883461\n",
              "Brazil            7700578  195411    6855372\n",
              "Russia            3153960   56798    2553467\n",
              "France            2697014   64892     200822\n",
              "United Kingdom    2549693   74237       5682\n",
              "Turkey            2220855   21093    2114760\n",
              "Italy             2129376   74621    1479988\n",
              "Spain             1928265   50837     150376\n",
              "Germany           1762637   34145    1388744"
            ]
          },
          "metadata": {
            "tags": []
          },
          "execution_count": 25
        }
      ]
    },
    {
      "cell_type": "code",
      "metadata": {
        "id": "9sV7bxuveuyX"
      },
      "source": [
        "# 11. Remove the rows with ‘Confirmed’ and ‘Deaths’ equal to zero from the above ranked \n",
        "# DataFrame in step 10.\n",
        "# Show the 5 countries with the least non-zero Confirmed cases as shown below."
      ],
      "execution_count": null,
      "outputs": []
    },
    {
      "cell_type": "code",
      "metadata": {
        "id": "YERSbZ6be1aq",
        "colab": {
          "base_uri": "https://localhost:8080/",
          "height": 235
        },
        "outputId": "f36e6f55-2b00-4b40-de2e-d9189ea269d0"
      },
      "source": [
        "import pandas as pd\n",
        "cd_remove_zero = newdf[(newdf['Confirmed'] > 0) &  (newdf['Deaths'] > 0)]\n",
        "cd_remove_zero.tail(5)"
      ],
      "execution_count": null,
      "outputs": [
        {
          "output_type": "execute_result",
          "data": {
            "text/html": [
              "<div>\n",
              "<style scoped>\n",
              "    .dataframe tbody tr th:only-of-type {\n",
              "        vertical-align: middle;\n",
              "    }\n",
              "\n",
              "    .dataframe tbody tr th {\n",
              "        vertical-align: top;\n",
              "    }\n",
              "\n",
              "    .dataframe thead th {\n",
              "        text-align: right;\n",
              "    }\n",
              "</style>\n",
              "<table border=\"1\" class=\"dataframe\">\n",
              "  <thead>\n",
              "    <tr style=\"text-align: right;\">\n",
              "      <th></th>\n",
              "      <th>Confirmed</th>\n",
              "      <th>Deaths</th>\n",
              "      <th>Recovered</th>\n",
              "    </tr>\n",
              "    <tr>\n",
              "      <th>Country_Region</th>\n",
              "      <th></th>\n",
              "      <th></th>\n",
              "      <th></th>\n",
              "    </tr>\n",
              "  </thead>\n",
              "  <tbody>\n",
              "    <tr>\n",
              "      <th>Saint Lucia</th>\n",
              "      <td>353</td>\n",
              "      <td>5</td>\n",
              "      <td>289</td>\n",
              "    </tr>\n",
              "    <tr>\n",
              "      <th>Antigua and Barbuda</th>\n",
              "      <td>159</td>\n",
              "      <td>5</td>\n",
              "      <td>148</td>\n",
              "    </tr>\n",
              "    <tr>\n",
              "      <th>Brunei</th>\n",
              "      <td>157</td>\n",
              "      <td>3</td>\n",
              "      <td>149</td>\n",
              "    </tr>\n",
              "    <tr>\n",
              "      <th>Fiji</th>\n",
              "      <td>49</td>\n",
              "      <td>2</td>\n",
              "      <td>44</td>\n",
              "    </tr>\n",
              "    <tr>\n",
              "      <th>MS Zaandam</th>\n",
              "      <td>9</td>\n",
              "      <td>2</td>\n",
              "      <td>7</td>\n",
              "    </tr>\n",
              "  </tbody>\n",
              "</table>\n",
              "</div>"
            ],
            "text/plain": [
              "                     Confirmed  Deaths  Recovered\n",
              "Country_Region                                   \n",
              "Saint Lucia                353       5        289\n",
              "Antigua and Barbuda        159       5        148\n",
              "Brunei                     157       3        149\n",
              "Fiji                        49       2         44\n",
              "MS Zaandam                   9       2          7"
            ]
          },
          "metadata": {
            "tags": []
          },
          "execution_count": 27
        }
      ]
    },
    {
      "cell_type": "code",
      "metadata": {
        "id": "gcqokwsFfsKS"
      },
      "source": [
        "# 12. Add a new column named “Fatality Percentage” in the DataFrame from Step 11.\n",
        "# Fatality Percentage = (Deaths / Confirmed) * 100 \n",
        "# Show the countries that have more than 2 million Confirmed cases, ranked by ‘Fatality \n",
        "# Percentage’ just as shown below"
      ],
      "execution_count": null,
      "outputs": []
    },
    {
      "cell_type": "code",
      "metadata": {
        "id": "BJhekSt_fshx",
        "colab": {
          "base_uri": "https://localhost:8080/",
          "height": 430
        },
        "outputId": "d1525f5f-044f-41bb-ad4a-7a0cffec8c59"
      },
      "source": [
        "cd_remove_zero['Fatality_Percentage'] = cd_remove_zero['Deaths'] / cd_remove_zero['Confirmed'] * 100 \n",
        "cd_remove_zero[cd_remove_zero.Confirmed > 2000000].sort_values('Fatality_Percentage', ascending = False)\n"
      ],
      "execution_count": null,
      "outputs": [
        {
          "output_type": "stream",
          "text": [
            "/usr/local/lib/python3.7/dist-packages/ipykernel_launcher.py:1: SettingWithCopyWarning: \n",
            "A value is trying to be set on a copy of a slice from a DataFrame.\n",
            "Try using .loc[row_indexer,col_indexer] = value instead\n",
            "\n",
            "See the caveats in the documentation: https://pandas.pydata.org/pandas-docs/stable/user_guide/indexing.html#returning-a-view-versus-a-copy\n",
            "  \"\"\"Entry point for launching an IPython kernel.\n"
          ],
          "name": "stderr"
        },
        {
          "output_type": "execute_result",
          "data": {
            "text/html": [
              "<div>\n",
              "<style scoped>\n",
              "    .dataframe tbody tr th:only-of-type {\n",
              "        vertical-align: middle;\n",
              "    }\n",
              "\n",
              "    .dataframe tbody tr th {\n",
              "        vertical-align: top;\n",
              "    }\n",
              "\n",
              "    .dataframe thead th {\n",
              "        text-align: right;\n",
              "    }\n",
              "</style>\n",
              "<table border=\"1\" class=\"dataframe\">\n",
              "  <thead>\n",
              "    <tr style=\"text-align: right;\">\n",
              "      <th></th>\n",
              "      <th>Confirmed</th>\n",
              "      <th>Deaths</th>\n",
              "      <th>Recovered</th>\n",
              "      <th>Fatality_Percentage</th>\n",
              "    </tr>\n",
              "    <tr>\n",
              "      <th>Country_Region</th>\n",
              "      <th></th>\n",
              "      <th></th>\n",
              "      <th></th>\n",
              "      <th></th>\n",
              "    </tr>\n",
              "  </thead>\n",
              "  <tbody>\n",
              "    <tr>\n",
              "      <th>Italy</th>\n",
              "      <td>2129376</td>\n",
              "      <td>74621</td>\n",
              "      <td>1479988</td>\n",
              "      <td>3.504360</td>\n",
              "    </tr>\n",
              "    <tr>\n",
              "      <th>United Kingdom</th>\n",
              "      <td>2549693</td>\n",
              "      <td>74237</td>\n",
              "      <td>5682</td>\n",
              "      <td>2.911605</td>\n",
              "    </tr>\n",
              "    <tr>\n",
              "      <th>Brazil</th>\n",
              "      <td>7700578</td>\n",
              "      <td>195411</td>\n",
              "      <td>6855372</td>\n",
              "      <td>2.537615</td>\n",
              "    </tr>\n",
              "    <tr>\n",
              "      <th>France</th>\n",
              "      <td>2697014</td>\n",
              "      <td>64892</td>\n",
              "      <td>200822</td>\n",
              "      <td>2.406068</td>\n",
              "    </tr>\n",
              "    <tr>\n",
              "      <th>Russia</th>\n",
              "      <td>3153960</td>\n",
              "      <td>56798</td>\n",
              "      <td>2553467</td>\n",
              "      <td>1.800847</td>\n",
              "    </tr>\n",
              "    <tr>\n",
              "      <th>US</th>\n",
              "      <td>20254160</td>\n",
              "      <td>354366</td>\n",
              "      <td>0</td>\n",
              "      <td>1.749596</td>\n",
              "    </tr>\n",
              "    <tr>\n",
              "      <th>India</th>\n",
              "      <td>10286709</td>\n",
              "      <td>148994</td>\n",
              "      <td>9883461</td>\n",
              "      <td>1.448413</td>\n",
              "    </tr>\n",
              "    <tr>\n",
              "      <th>Turkey</th>\n",
              "      <td>2220855</td>\n",
              "      <td>21093</td>\n",
              "      <td>2114760</td>\n",
              "      <td>0.949769</td>\n",
              "    </tr>\n",
              "  </tbody>\n",
              "</table>\n",
              "</div>"
            ],
            "text/plain": [
              "                Confirmed  Deaths  Recovered  Fatality_Percentage\n",
              "Country_Region                                                   \n",
              "Italy             2129376   74621    1479988             3.504360\n",
              "United Kingdom    2549693   74237       5682             2.911605\n",
              "Brazil            7700578  195411    6855372             2.537615\n",
              "France            2697014   64892     200822             2.406068\n",
              "Russia            3153960   56798    2553467             1.800847\n",
              "US               20254160  354366          0             1.749596\n",
              "India            10286709  148994    9883461             1.448413\n",
              "Turkey            2220855   21093    2114760             0.949769"
            ]
          },
          "metadata": {
            "tags": []
          },
          "execution_count": 28
        }
      ]
    },
    {
      "cell_type": "code",
      "metadata": {
        "id": "zP8s4Qhefs2l"
      },
      "source": [
        "# 13. Rank the US states by their Confirmed cases, and show the top 10 states with the most \n",
        "# confirmed cases.\n"
      ],
      "execution_count": null,
      "outputs": []
    },
    {
      "cell_type": "code",
      "metadata": {
        "id": "19thgzrcftL-",
        "colab": {
          "base_uri": "https://localhost:8080/",
          "height": 390
        },
        "outputId": "26ced667-bac5-4faf-ca91-0c99a352d538"
      },
      "source": [
        "x = covid19.loc[covid19['Country_Region'] == 'US']\n",
        "con = x.groupby('Province_State')[['Confirmed','Deaths']].sum().sort_values('Confirmed', ascending = False)\n",
        "con.head(10)"
      ],
      "execution_count": null,
      "outputs": [
        {
          "output_type": "execute_result",
          "data": {
            "text/html": [
              "<div>\n",
              "<style scoped>\n",
              "    .dataframe tbody tr th:only-of-type {\n",
              "        vertical-align: middle;\n",
              "    }\n",
              "\n",
              "    .dataframe tbody tr th {\n",
              "        vertical-align: top;\n",
              "    }\n",
              "\n",
              "    .dataframe thead th {\n",
              "        text-align: right;\n",
              "    }\n",
              "</style>\n",
              "<table border=\"1\" class=\"dataframe\">\n",
              "  <thead>\n",
              "    <tr style=\"text-align: right;\">\n",
              "      <th></th>\n",
              "      <th>Confirmed</th>\n",
              "      <th>Deaths</th>\n",
              "    </tr>\n",
              "    <tr>\n",
              "      <th>Province_State</th>\n",
              "      <th></th>\n",
              "      <th></th>\n",
              "    </tr>\n",
              "  </thead>\n",
              "  <tbody>\n",
              "    <tr>\n",
              "      <th>California</th>\n",
              "      <td>2365024</td>\n",
              "      <td>26424</td>\n",
              "    </tr>\n",
              "    <tr>\n",
              "      <th>Texas</th>\n",
              "      <td>1782956</td>\n",
              "      <td>28359</td>\n",
              "    </tr>\n",
              "    <tr>\n",
              "      <th>Florida</th>\n",
              "      <td>1323315</td>\n",
              "      <td>21673</td>\n",
              "    </tr>\n",
              "    <tr>\n",
              "      <th>New York</th>\n",
              "      <td>995816</td>\n",
              "      <td>38155</td>\n",
              "    </tr>\n",
              "    <tr>\n",
              "      <th>Illinois</th>\n",
              "      <td>963389</td>\n",
              "      <td>17978</td>\n",
              "    </tr>\n",
              "    <tr>\n",
              "      <th>Ohio</th>\n",
              "      <td>700380</td>\n",
              "      <td>13746</td>\n",
              "    </tr>\n",
              "    <tr>\n",
              "      <th>Georgia</th>\n",
              "      <td>677589</td>\n",
              "      <td>10958</td>\n",
              "    </tr>\n",
              "    <tr>\n",
              "      <th>Pennsylvania</th>\n",
              "      <td>653260</td>\n",
              "      <td>16245</td>\n",
              "    </tr>\n",
              "    <tr>\n",
              "      <th>Tennessee</th>\n",
              "      <td>586802</td>\n",
              "      <td>6907</td>\n",
              "    </tr>\n",
              "    <tr>\n",
              "      <th>North Carolina</th>\n",
              "      <td>539545</td>\n",
              "      <td>6748</td>\n",
              "    </tr>\n",
              "  </tbody>\n",
              "</table>\n",
              "</div>"
            ],
            "text/plain": [
              "                Confirmed  Deaths\n",
              "Province_State                   \n",
              "California        2365024   26424\n",
              "Texas             1782956   28359\n",
              "Florida           1323315   21673\n",
              "New York           995816   38155\n",
              "Illinois           963389   17978\n",
              "Ohio               700380   13746\n",
              "Georgia            677589   10958\n",
              "Pennsylvania       653260   16245\n",
              "Tennessee          586802    6907\n",
              "North Carolina     539545    6748"
            ]
          },
          "metadata": {
            "tags": []
          },
          "execution_count": 29
        }
      ]
    },
    {
      "cell_type": "code",
      "metadata": {
        "id": "Pyp_9iN5ftb8"
      },
      "source": [
        "# 14. Rank the countries by their death counts and show the top 5 countries as shown below"
      ],
      "execution_count": null,
      "outputs": []
    },
    {
      "cell_type": "code",
      "metadata": {
        "id": "6VNXXIGOftpS",
        "colab": {
          "base_uri": "https://localhost:8080/",
          "height": 235
        },
        "outputId": "8a4a2f24-93ba-4f10-c2f6-906093575ad4"
      },
      "source": [
        "import pandas as pd\n",
        "top_deaths = covid19.groupby('Country_Region')[['Deaths']].sum().sort_values('Deaths',ascending= False).head(5)\n",
        "top_deaths"
      ],
      "execution_count": null,
      "outputs": [
        {
          "output_type": "execute_result",
          "data": {
            "text/html": [
              "<div>\n",
              "<style scoped>\n",
              "    .dataframe tbody tr th:only-of-type {\n",
              "        vertical-align: middle;\n",
              "    }\n",
              "\n",
              "    .dataframe tbody tr th {\n",
              "        vertical-align: top;\n",
              "    }\n",
              "\n",
              "    .dataframe thead th {\n",
              "        text-align: right;\n",
              "    }\n",
              "</style>\n",
              "<table border=\"1\" class=\"dataframe\">\n",
              "  <thead>\n",
              "    <tr style=\"text-align: right;\">\n",
              "      <th></th>\n",
              "      <th>Deaths</th>\n",
              "    </tr>\n",
              "    <tr>\n",
              "      <th>Country_Region</th>\n",
              "      <th></th>\n",
              "    </tr>\n",
              "  </thead>\n",
              "  <tbody>\n",
              "    <tr>\n",
              "      <th>US</th>\n",
              "      <td>354366</td>\n",
              "    </tr>\n",
              "    <tr>\n",
              "      <th>Brazil</th>\n",
              "      <td>195411</td>\n",
              "    </tr>\n",
              "    <tr>\n",
              "      <th>India</th>\n",
              "      <td>148994</td>\n",
              "    </tr>\n",
              "    <tr>\n",
              "      <th>Mexico</th>\n",
              "      <td>126507</td>\n",
              "    </tr>\n",
              "    <tr>\n",
              "      <th>Peru</th>\n",
              "      <td>93231</td>\n",
              "    </tr>\n",
              "  </tbody>\n",
              "</table>\n",
              "</div>"
            ],
            "text/plain": [
              "                Deaths\n",
              "Country_Region        \n",
              "US              354366\n",
              "Brazil          195411\n",
              "India           148994\n",
              "Mexico          126507\n",
              "Peru             93231"
            ]
          },
          "metadata": {
            "tags": []
          },
          "execution_count": 31
        }
      ]
    },
    {
      "cell_type": "code",
      "metadata": {
        "id": "q-oyZ29Ift9V"
      },
      "source": [
        "# 15. Plot a bar plot of the data shown in Step 14, as shown below"
      ],
      "execution_count": null,
      "outputs": []
    },
    {
      "cell_type": "code",
      "metadata": {
        "id": "4RMMz7IgfuLf",
        "colab": {
          "base_uri": "https://localhost:8080/",
          "height": 285
        },
        "outputId": "781350e5-03d6-47c4-a2a1-d7570324c445"
      },
      "source": [
        "import matplotlib.pyplot as plt\n",
        "import seaborn as sns\n",
        "sns.set()\n",
        "top_deaths.reset_index(level=0, inplace=True)\n",
        "plt.bar(top_deaths['Country_Region'], top_deaths['Deaths'],label = \"Deaths\")\n",
        "plt.xlabel(\"Country\")\n",
        "plt.ylabel(\"Number of Cases\")\n",
        "plt.legend(framealpha=0.5, frameon=True)\n",
        "plt.show()"
      ],
      "execution_count": null,
      "outputs": [
        {
          "output_type": "display_data",
          "data": {
            "image/png": "[encoded data removed]",
            "text/plain": [
              "<Figure size 432x288 with 1 Axes>"
            ]
          },
          "metadata": {
            "tags": []
          }
        }
      ]
    },
    {
      "cell_type": "code",
      "metadata": {
        "id": "0eoYPpVefuaG"
      },
      "source": [
        "# 16. Show the list of countries with non-zero Confirmed cases in which all the cases of Covid \n",
        "# recovered, as shown below.\n",
        " "
      ],
      "execution_count": null,
      "outputs": []
    },
    {
      "cell_type": "code",
      "metadata": {
        "id": "TlI8YkwpwL46",
        "colab": {
          "base_uri": "https://localhost:8080/",
          "height": 173
        },
        "outputId": "dc827212-bb71-4bd3-816a-2f5be92763f9"
      },
      "source": [
        "import pandas as pd\n",
        "non_zero_confirmed = newdf[(newdf['Confirmed'] > 0)]\n",
        "non_zero_confirmed.tail(3)"
      ],
      "execution_count": null,
      "outputs": [
        {
          "output_type": "execute_result",
          "data": {
            "text/html": [
              "<div>\n",
              "<style scoped>\n",
              "    .dataframe tbody tr th:only-of-type {\n",
              "        vertical-align: middle;\n",
              "    }\n",
              "\n",
              "    .dataframe tbody tr th {\n",
              "        vertical-align: top;\n",
              "    }\n",
              "\n",
              "    .dataframe thead th {\n",
              "        text-align: right;\n",
              "    }\n",
              "</style>\n",
              "<table border=\"1\" class=\"dataframe\">\n",
              "  <thead>\n",
              "    <tr style=\"text-align: right;\">\n",
              "      <th></th>\n",
              "      <th>Confirmed</th>\n",
              "      <th>Deaths</th>\n",
              "      <th>Recovered</th>\n",
              "    </tr>\n",
              "    <tr>\n",
              "      <th>Country_Region</th>\n",
              "      <th></th>\n",
              "      <th></th>\n",
              "      <th></th>\n",
              "    </tr>\n",
              "  </thead>\n",
              "  <tbody>\n",
              "    <tr>\n",
              "      <th>Marshall Islands</th>\n",
              "      <td>4</td>\n",
              "      <td>0</td>\n",
              "      <td>4</td>\n",
              "    </tr>\n",
              "    <tr>\n",
              "      <th>Samoa</th>\n",
              "      <td>2</td>\n",
              "      <td>0</td>\n",
              "      <td>2</td>\n",
              "    </tr>\n",
              "    <tr>\n",
              "      <th>Vanuatu</th>\n",
              "      <td>1</td>\n",
              "      <td>0</td>\n",
              "      <td>1</td>\n",
              "    </tr>\n",
              "  </tbody>\n",
              "</table>\n",
              "</div>"
            ],
            "text/plain": [
              "                  Confirmed  Deaths  Recovered\n",
              "Country_Region                                \n",
              "Marshall Islands          4       0          4\n",
              "Samoa                     2       0          2\n",
              "Vanuatu                   1       0          1"
            ]
          },
          "metadata": {
            "tags": []
          },
          "execution_count": 33
        }
      ]
    },
    {
      "cell_type": "markdown",
      "metadata": {
        "id": "DcIZOzcZici9"
      },
      "source": [
        "**completed!**"
      ]
    }
  ]
}
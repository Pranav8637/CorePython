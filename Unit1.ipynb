{
 "cells": [
  {
   "cell_type": "code",
   "execution_count": 3,
   "metadata": {},
   "outputs": [
    {
     "name": "stdout",
     "output_type": "stream",
     "text": [
      "Hello World!!\n",
      "\n",
      "Welcome to Broadway!!\n",
      "30\n"
     ]
    }
   ],
   "source": [
    "print(\"Hello World!!\\n\")\n",
    "print(\"Welcome to Broadway!!\")\n",
    "\n",
    "a = 20\n",
    "b = 10 \n",
    "\n",
    "C = a + b \n",
    "\n",
    "print (C)"
   ]
  },
  {
   "cell_type": "code",
   "execution_count": 4,
   "metadata": {},
   "outputs": [
    {
     "name": "stdout",
     "output_type": "stream",
     "text": [
      "We are the Champions!!\n"
     ]
    }
   ],
   "source": [
    "print (\"We are the Champions!!\")"
   ]
  },
  {
   "cell_type": "markdown",
   "metadata": {},
   "source": [
    "# Day 2"
   ]
  },
  {
   "cell_type": "code",
   "execution_count": 6,
   "metadata": {},
   "outputs": [
    {
     "name": "stdout",
     "output_type": "stream",
     "text": [
      "123\n",
      "123.32\n",
      "True\n",
      "False\n",
      "Broadway Infosys\n"
     ]
    }
   ],
   "source": [
    "var1 = None\n",
    "\n",
    "var1 = 123 # integer\n",
    "print (var1)\n",
    "\n",
    "var1 = 123.32 # float\n",
    "print (var1)\n",
    "\n",
    "var1 = True # bool\n",
    "print (var1)\n",
    "\n",
    "var1 = False # bool \n",
    "print (var1)\n",
    "\n",
    "var1 = \"Broadway Infosys\" # String\n",
    "print (var1)"
   ]
  },
  {
   "cell_type": "markdown",
   "metadata": {},
   "source": [
    "# Basic IO"
   ]
  },
  {
   "cell_type": "code",
   "execution_count": 14,
   "metadata": {},
   "outputs": [
    {
     "name": "stdout",
     "output_type": "stream",
     "text": [
      "Enter any value: Pranav\n",
      "Pranav\n",
      "Value = Pranav\n"
     ]
    }
   ],
   "source": [
    "var1 = input (\"Enter any value: \") #Input\n",
    "print(var1) #Output\n",
    "print(\"Value =\", var1) #Output"
   ]
  },
  {
   "cell_type": "code",
   "execution_count": 15,
   "metadata": {},
   "outputs": [],
   "source": [
    "# Accept two numbers, calculate sum of them and print."
   ]
  },
  {
   "cell_type": "code",
   "execution_count": 91,
   "metadata": {},
   "outputs": [
    {
     "name": "stdout",
     "output_type": "stream",
     "text": [
      "Enter first number: 2\n",
      "Enter second number: 0\n",
      "2\n"
     ]
    }
   ],
   "source": [
    "a = int(input (\"Enter first number: \"))\n",
    "b = int(input (\"Enter second number: \"))\n",
    "\n",
    "add = int (a + b);\n",
    "print (add)"
   ]
  },
  {
   "cell_type": "markdown",
   "metadata": {},
   "source": [
    "# Conversion and Math Module"
   ]
  },
  {
   "cell_type": "code",
   "execution_count": 38,
   "metadata": {},
   "outputs": [
    {
     "name": "stdout",
     "output_type": "stream",
     "text": [
      "first\n",
      "<class 'int'>\n",
      "<class 'str'>\n",
      "\n",
      "second\n",
      "<class 'float'>\n",
      "<class 'str'>\n",
      "\n",
      "third\n",
      "<class 'bool'>\n",
      "<class 'str'>\n",
      "This is not a String\n"
     ]
    }
   ],
   "source": [
    "#  int, float, boolean to String\n",
    "\n",
    "num1 = 3456\n",
    "num2 = 456.789\n",
    "res = True\n",
    "\n",
    "print(\"first\")\n",
    "str1 = str(num1)\n",
    "print (type(num1))\n",
    "print (type(str1))\n",
    "print() # gives empty space\n",
    "\n",
    "print(\"second\")\n",
    "str2 = str(num2)\n",
    "print (type(num2))\n",
    "print (type(str2))\n",
    "print() \n",
    "\n",
    "print(\"third\")\n",
    "str3 = str(res)\n",
    "print (type(res))\n",
    "print (type(str3))\n",
    "\n",
    "if(isinstance(num1, str)):\n",
    "    print (\"This is String\")\n",
    "else:\n",
    "    print (\"This is not a String\")"
   ]
  },
  {
   "cell_type": "code",
   "execution_count": 23,
   "metadata": {},
   "outputs": [
    {
     "name": "stdout",
     "output_type": "stream",
     "text": [
      "1234\n",
      "<class 'int'>\n",
      "<class 'float'>\n",
      "<class 'bool'>\n",
      "Integer\n",
      "Integer\n",
      "Float\n",
      "Bool\n"
     ]
    }
   ],
   "source": [
    "# Type conversion \n",
    "\n",
    "# String to int , float , boolean\n",
    "str1 = \"1234\"\n",
    "# print (type(str1))\n",
    "\n",
    "num1 = int(str1)\n",
    "print (num1)\n",
    "print (type(num1))\n",
    "\n",
    "\n",
    "num2 = float(str1)\n",
    "print (type(num2))\n",
    "\n",
    "res = bool(\"True\") # \"True\" \"False\"\n",
    "print (type(res))\n",
    "\n",
    "# \"For Integer check\"\n",
    "if(isinstance (num1, int)):\n",
    "    print (\"Integer\")\n",
    "\n",
    "if (isinstance (num2, int)):\n",
    "    print (\"Integer\")\n",
    "    \n",
    "if (isinstance (res, int)):\n",
    "    print (\"Integer\")\n",
    "    \n",
    "# \"Chekcing Float in num1 2 and res\"\n",
    "\n",
    "if (isinstance (num1, float)):\n",
    "    print (\"Float\")\n",
    "    \n",
    "if (isinstance (num2, float)):\n",
    "    print (\"Float\")\n",
    "    \n",
    "if (isinstance (res, float)):\n",
    "    print (\"Float\")\n",
    "    \n",
    "# \"Checking Bool in num 1 2 and res\"\n",
    "\n",
    "if (isinstance (num1, bool)):\n",
    "    print (\"Bool\")\n",
    "    \n",
    "if (isinstance (num2, bool)):\n",
    "    print (\"Bool\")\n",
    "    \n",
    "\n",
    "if (isinstance (res, bool)):\n",
    "    print (\"Bool\")"
   ]
  },
  {
   "cell_type": "code",
   "execution_count": 37,
   "metadata": {},
   "outputs": [
    {
     "name": "stdout",
     "output_type": "stream",
     "text": [
      "<class 'float'>\n",
      "1234.0\n"
     ]
    }
   ],
   "source": [
    "# int to float\n",
    "\n",
    "num1 = 1234\n",
    "num2 = float (num1)\n",
    "print(type(num2))\n",
    "print(num2)\n",
    "# no errors easily converted "
   ]
  },
  {
   "cell_type": "code",
   "execution_count": 35,
   "metadata": {},
   "outputs": [
    {
     "name": "stdout",
     "output_type": "stream",
     "text": [
      "<class 'int'>\n",
      "1234\n"
     ]
    }
   ],
   "source": [
    "#  float to integer\n",
    "\n",
    "num1 = 1234.56\n",
    "num2 = int(num1)\n",
    "print(type(num2))\n",
    "print (num2)"
   ]
  },
  {
   "cell_type": "code",
   "execution_count": 79,
   "metadata": {},
   "outputs": [
    {
     "name": "stdout",
     "output_type": "stream",
     "text": [
      "456.79\n"
     ]
    }
   ],
   "source": [
    "# Task - Rounding the digits after decimal place\n",
    "num1 = 456.789123\n",
    "num2 = round(num1, 2)\n",
    "print (num2)\n",
    "# 456.79 #Rounding after decimal place"
   ]
  },
  {
   "cell_type": "code",
   "execution_count": 41,
   "metadata": {},
   "outputs": [
    {
     "name": "stdout",
     "output_type": "stream",
     "text": [
      "1279\n",
      "1189\n",
      "27.42222222222222\n",
      "27\n",
      "19\n",
      "12858259503317138993032060663115227698767697321022453511734361104006218632821822420757738016896992940685125968028282734964633411368542797824\n"
     ]
    }
   ],
   "source": [
    "# Operations \n",
    "# Aritimetic Operators \n",
    "\n",
    "num1 = 1234\n",
    "num2 = 45\n",
    "num3 = num1 + num2 \n",
    "print(num3)\n",
    "\n",
    "num3 = num1-num2 \n",
    "print(num3)\n",
    "\n",
    "num3 = num1 /num2 #floating point division\n",
    "print (num3)\n",
    "\n",
    "num3 = num1//num2 # integer division\n",
    "print(num3)\n",
    "\n",
    "num3 = num1 % num2 #Rem/Mod\n",
    "print(num3)\n",
    "\n",
    "num3 = num1**num2 #Power (num1 to the power num2)\n",
    "print (num3)"
   ]
  },
  {
   "cell_type": "code",
   "execution_count": 44,
   "metadata": {},
   "outputs": [],
   "source": [
    "import math"
   ]
  },
  {
   "cell_type": "code",
   "execution_count": 46,
   "metadata": {},
   "outputs": [
    {
     "data": {
      "text/plain": [
       "['__doc__',\n",
       " '__file__',\n",
       " '__loader__',\n",
       " '__name__',\n",
       " '__package__',\n",
       " '__spec__',\n",
       " 'acos',\n",
       " 'acosh',\n",
       " 'asin',\n",
       " 'asinh',\n",
       " 'atan',\n",
       " 'atan2',\n",
       " 'atanh',\n",
       " 'ceil',\n",
       " 'copysign',\n",
       " 'cos',\n",
       " 'cosh',\n",
       " 'degrees',\n",
       " 'e',\n",
       " 'erf',\n",
       " 'erfc',\n",
       " 'exp',\n",
       " 'expm1',\n",
       " 'fabs',\n",
       " 'factorial',\n",
       " 'floor',\n",
       " 'fmod',\n",
       " 'frexp',\n",
       " 'fsum',\n",
       " 'gamma',\n",
       " 'gcd',\n",
       " 'hypot',\n",
       " 'inf',\n",
       " 'isclose',\n",
       " 'isfinite',\n",
       " 'isinf',\n",
       " 'isnan',\n",
       " 'ldexp',\n",
       " 'lgamma',\n",
       " 'log',\n",
       " 'log10',\n",
       " 'log1p',\n",
       " 'log2',\n",
       " 'modf',\n",
       " 'nan',\n",
       " 'pi',\n",
       " 'pow',\n",
       " 'radians',\n",
       " 'remainder',\n",
       " 'sin',\n",
       " 'sinh',\n",
       " 'sqrt',\n",
       " 'tan',\n",
       " 'tanh',\n",
       " 'tau',\n",
       " 'trunc']"
      ]
     },
     "execution_count": 46,
     "metadata": {},
     "output_type": "execute_result"
    }
   ],
   "source": [
    "dir(math)"
   ]
  },
  {
   "cell_type": "code",
   "execution_count": 48,
   "metadata": {},
   "outputs": [
    {
     "name": "stdout",
     "output_type": "stream",
     "text": [
      "Help on module math:\n",
      "\n",
      "NAME\n",
      "    math\n",
      "\n",
      "MODULE REFERENCE\n",
      "    https://docs.python.org/3.7/library/math\n",
      "    \n",
      "    The following documentation is automatically generated from the Python\n",
      "    source files.  It may be incomplete, incorrect or include features that\n",
      "    are considered implementation detail and may vary between Python\n",
      "    implementations.  When in doubt, consult the module reference at the\n",
      "    location listed above.\n",
      "\n",
      "DESCRIPTION\n",
      "    This module provides access to the mathematical functions\n",
      "    defined by the C standard.\n",
      "\n",
      "FUNCTIONS\n",
      "    acos(x, /)\n",
      "        Return the arc cosine (measured in radians) of x.\n",
      "    \n",
      "    acosh(x, /)\n",
      "        Return the inverse hyperbolic cosine of x.\n",
      "    \n",
      "    asin(x, /)\n",
      "        Return the arc sine (measured in radians) of x.\n",
      "    \n",
      "    asinh(x, /)\n",
      "        Return the inverse hyperbolic sine of x.\n",
      "    \n",
      "    atan(x, /)\n",
      "        Return the arc tangent (measured in radians) of x.\n",
      "    \n",
      "    atan2(y, x, /)\n",
      "        Return the arc tangent (measured in radians) of y/x.\n",
      "        \n",
      "        Unlike atan(y/x), the signs of both x and y are considered.\n",
      "    \n",
      "    atanh(x, /)\n",
      "        Return the inverse hyperbolic tangent of x.\n",
      "    \n",
      "    ceil(x, /)\n",
      "        Return the ceiling of x as an Integral.\n",
      "        \n",
      "        This is the smallest integer >= x.\n",
      "    \n",
      "    copysign(x, y, /)\n",
      "        Return a float with the magnitude (absolute value) of x but the sign of y.\n",
      "        \n",
      "        On platforms that support signed zeros, copysign(1.0, -0.0)\n",
      "        returns -1.0.\n",
      "    \n",
      "    cos(x, /)\n",
      "        Return the cosine of x (measured in radians).\n",
      "    \n",
      "    cosh(x, /)\n",
      "        Return the hyperbolic cosine of x.\n",
      "    \n",
      "    degrees(x, /)\n",
      "        Convert angle x from radians to degrees.\n",
      "    \n",
      "    erf(x, /)\n",
      "        Error function at x.\n",
      "    \n",
      "    erfc(x, /)\n",
      "        Complementary error function at x.\n",
      "    \n",
      "    exp(x, /)\n",
      "        Return e raised to the power of x.\n",
      "    \n",
      "    expm1(x, /)\n",
      "        Return exp(x)-1.\n",
      "        \n",
      "        This function avoids the loss of precision involved in the direct evaluation of exp(x)-1 for small x.\n",
      "    \n",
      "    fabs(x, /)\n",
      "        Return the absolute value of the float x.\n",
      "    \n",
      "    factorial(x, /)\n",
      "        Find x!.\n",
      "        \n",
      "        Raise a ValueError if x is negative or non-integral.\n",
      "    \n",
      "    floor(x, /)\n",
      "        Return the floor of x as an Integral.\n",
      "        \n",
      "        This is the largest integer <= x.\n",
      "    \n",
      "    fmod(x, y, /)\n",
      "        Return fmod(x, y), according to platform C.\n",
      "        \n",
      "        x % y may differ.\n",
      "    \n",
      "    frexp(x, /)\n",
      "        Return the mantissa and exponent of x, as pair (m, e).\n",
      "        \n",
      "        m is a float and e is an int, such that x = m * 2.**e.\n",
      "        If x is 0, m and e are both 0.  Else 0.5 <= abs(m) < 1.0.\n",
      "    \n",
      "    fsum(seq, /)\n",
      "        Return an accurate floating point sum of values in the iterable seq.\n",
      "        \n",
      "        Assumes IEEE-754 floating point arithmetic.\n",
      "    \n",
      "    gamma(x, /)\n",
      "        Gamma function at x.\n",
      "    \n",
      "    gcd(x, y, /)\n",
      "        greatest common divisor of x and y\n",
      "    \n",
      "    hypot(x, y, /)\n",
      "        Return the Euclidean distance, sqrt(x*x + y*y).\n",
      "    \n",
      "    isclose(a, b, *, rel_tol=1e-09, abs_tol=0.0)\n",
      "        Determine whether two floating point numbers are close in value.\n",
      "        \n",
      "          rel_tol\n",
      "            maximum difference for being considered \"close\", relative to the\n",
      "            magnitude of the input values\n",
      "          abs_tol\n",
      "            maximum difference for being considered \"close\", regardless of the\n",
      "            magnitude of the input values\n",
      "        \n",
      "        Return True if a is close in value to b, and False otherwise.\n",
      "        \n",
      "        For the values to be considered close, the difference between them\n",
      "        must be smaller than at least one of the tolerances.\n",
      "        \n",
      "        -inf, inf and NaN behave similarly to the IEEE 754 Standard.  That\n",
      "        is, NaN is not close to anything, even itself.  inf and -inf are\n",
      "        only close to themselves.\n",
      "    \n",
      "    isfinite(x, /)\n",
      "        Return True if x is neither an infinity nor a NaN, and False otherwise.\n",
      "    \n",
      "    isinf(x, /)\n",
      "        Return True if x is a positive or negative infinity, and False otherwise.\n",
      "    \n",
      "    isnan(x, /)\n",
      "        Return True if x is a NaN (not a number), and False otherwise.\n",
      "    \n",
      "    ldexp(x, i, /)\n",
      "        Return x * (2**i).\n",
      "        \n",
      "        This is essentially the inverse of frexp().\n",
      "    \n",
      "    lgamma(x, /)\n",
      "        Natural logarithm of absolute value of Gamma function at x.\n",
      "    \n",
      "    log(...)\n",
      "        log(x, [base=math.e])\n",
      "        Return the logarithm of x to the given base.\n",
      "        \n",
      "        If the base not specified, returns the natural logarithm (base e) of x.\n",
      "    \n",
      "    log10(x, /)\n",
      "        Return the base 10 logarithm of x.\n",
      "    \n",
      "    log1p(x, /)\n",
      "        Return the natural logarithm of 1+x (base e).\n",
      "        \n",
      "        The result is computed in a way which is accurate for x near zero.\n",
      "    \n",
      "    log2(x, /)\n",
      "        Return the base 2 logarithm of x.\n",
      "    \n",
      "    modf(x, /)\n",
      "        Return the fractional and integer parts of x.\n",
      "        \n",
      "        Both results carry the sign of x and are floats.\n",
      "    \n",
      "    pow(x, y, /)\n",
      "        Return x**y (x to the power of y).\n",
      "    \n",
      "    radians(x, /)\n",
      "        Convert angle x from degrees to radians.\n",
      "    \n",
      "    remainder(x, y, /)\n",
      "        Difference between x and the closest integer multiple of y.\n",
      "        \n",
      "        Return x - n*y where n*y is the closest integer multiple of y.\n",
      "        In the case where x is exactly halfway between two multiples of\n",
      "        y, the nearest even value of n is used. The result is always exact.\n",
      "    \n",
      "    sin(x, /)\n",
      "        Return the sine of x (measured in radians).\n",
      "    \n",
      "    sinh(x, /)\n",
      "        Return the hyperbolic sine of x.\n",
      "    \n",
      "    sqrt(x, /)\n",
      "        Return the square root of x.\n",
      "    \n",
      "    tan(x, /)\n",
      "        Return the tangent of x (measured in radians).\n",
      "    \n",
      "    tanh(x, /)\n",
      "        Return the hyperbolic tangent of x.\n",
      "    \n",
      "    trunc(x, /)\n",
      "        Truncates the Real x to the nearest Integral toward 0.\n",
      "        \n",
      "        Uses the __trunc__ magic method.\n",
      "\n",
      "DATA\n",
      "    e = 2.718281828459045\n",
      "    inf = inf\n",
      "    nan = nan\n",
      "    pi = 3.141592653589793\n",
      "    tau = 6.283185307179586\n",
      "\n",
      "FILE\n",
      "    /opt/anaconda3/lib/python3.7/lib-dynload/math.cpython-37m-darwin.so\n",
      "\n",
      "\n",
      "None\n"
     ]
    }
   ],
   "source": [
    "print (help (math))"
   ]
  },
  {
   "cell_type": "code",
   "execution_count": 54,
   "metadata": {},
   "outputs": [
    {
     "name": "stdout",
     "output_type": "stream",
     "text": [
      "120\n"
     ]
    }
   ],
   "source": [
    "print(math.factorial(5))"
   ]
  },
  {
   "cell_type": "code",
   "execution_count": 56,
   "metadata": {},
   "outputs": [
    {
     "name": "stdout",
     "output_type": "stream",
     "text": [
      "52\n"
     ]
    }
   ],
   "source": [
    "print(math.floor(52.333333))"
   ]
  },
  {
   "cell_type": "code",
   "execution_count": 61,
   "metadata": {},
   "outputs": [
    {
     "name": "stdout",
     "output_type": "stream",
     "text": [
      "100.0\n"
     ]
    }
   ],
   "source": [
    "print (math.pow(10,2))"
   ]
  },
  {
   "cell_type": "code",
   "execution_count": 63,
   "metadata": {},
   "outputs": [
    {
     "name": "stdout",
     "output_type": "stream",
     "text": [
      "5.0\n"
     ]
    }
   ],
   "source": [
    "print(math.sqrt(25))"
   ]
  },
  {
   "cell_type": "code",
   "execution_count": 67,
   "metadata": {},
   "outputs": [
    {
     "name": "stdout",
     "output_type": "stream",
     "text": [
      "3.141592653589793\n"
     ]
    }
   ],
   "source": [
    "num1 = (math.pi)\n",
    "print (num1)"
   ]
  },
  {
   "cell_type": "code",
   "execution_count": 2,
   "metadata": {},
   "outputs": [
    {
     "name": "stdout",
     "output_type": "stream",
     "text": [
      "<class 'bool'>\n",
      "<class 'int'>\n",
      "<class 'float'>\n",
      "<class 'complex'>\n",
      "\n",
      "<class 'list'>\n",
      "[5, 6, 7, 8, 9]\n",
      "5\n",
      "5\n"
     ]
    },
    {
     "ename": "IndexError",
     "evalue": "list index out of range",
     "output_type": "error",
     "traceback": [
      "\u001b[0;31m---------------------------------------------------------------------------\u001b[0m",
      "\u001b[0;31mIndexError\u001b[0m                                Traceback (most recent call last)",
      "\u001b[0;32m<ipython-input-2-af1c1258c916>\u001b[0m in \u001b[0;36m<module>\u001b[0;34m\u001b[0m\n\u001b[1;32m     30\u001b[0m \u001b[0;34m\u001b[0m\u001b[0m\n\u001b[1;32m     31\u001b[0m \u001b[0;31m# negative indexing\u001b[0m\u001b[0;34m\u001b[0m\u001b[0;34m\u001b[0m\u001b[0;34m\u001b[0m\u001b[0m\n\u001b[0;32m---> 32\u001b[0;31m \u001b[0mprint\u001b[0m \u001b[0;34m(\u001b[0m\u001b[0mvar1\u001b[0m\u001b[0;34m[\u001b[0m\u001b[0;34m-\u001b[0m\u001b[0;36m6\u001b[0m\u001b[0;34m]\u001b[0m\u001b[0;34m)\u001b[0m\u001b[0;34m\u001b[0m\u001b[0;34m\u001b[0m\u001b[0m\n\u001b[0m",
      "\u001b[0;31mIndexError\u001b[0m: list index out of range"
     ]
    }
   ],
   "source": [
    "# Data types - Extended \n",
    "\n",
    "# 1. bool\n",
    "var1 = True\n",
    "print (type(var1))\n",
    "\n",
    "#  2. int\n",
    "var1 = 23456\n",
    "print(type(var1))\n",
    "\n",
    "\n",
    "# 3.float\n",
    "var2 = 12345.6789\n",
    "print (type(var2))\n",
    "\n",
    "# 4.complex #Real-life application?\n",
    "var1 = 12345+6789j # /real number + imaginary number\n",
    "var1 =12345 + 6789j\n",
    "print(type(var1))\n",
    "print()\n",
    "\n",
    "# Collection - Single variable holds multiple values \n",
    "# 5. list \n",
    "var1 = [5,6,7,8,9]\n",
    "print(type(var1))\n",
    "print(var1)\n",
    "print (len(var1))\n",
    "# positive indexing\n",
    "print (var1[0])\n",
    "\n",
    "# negative indexing\n",
    "print (var1[-6])\n"
   ]
  },
  {
   "cell_type": "markdown",
   "metadata": {},
   "source": [
    "# Day 3"
   ]
  },
  {
   "cell_type": "code",
   "execution_count": 3,
   "metadata": {},
   "outputs": [
    {
     "name": "stdout",
     "output_type": "stream",
     "text": [
      "[5, 6, 7, 8, 9]\n"
     ]
    }
   ],
   "source": [
    "print(var1)"
   ]
  },
  {
   "cell_type": "code",
   "execution_count": 16,
   "metadata": {},
   "outputs": [
    {
     "name": "stdout",
     "output_type": "stream",
     "text": [
      "5\n",
      "<class 'IndexError'> list index out of range\n"
     ]
    }
   ],
   "source": [
    "import sys\n",
    "try:\n",
    "    print(var1[-5])\n",
    "    print(var1[-6])\n",
    "except:\n",
    "    print(sys.exc_info()[0],sys.exc_info()[1])"
   ]
  },
  {
   "cell_type": "code",
   "execution_count": 17,
   "metadata": {},
   "outputs": [],
   "source": [
    "# Slicing\n",
    "\n",
    "try:\n",
    "    pass\n",
    "except:\n",
    "    print(\"Error : \", sys.exc_info()[1])"
   ]
  },
  {
   "cell_type": "code",
   "execution_count": 47,
   "metadata": {},
   "outputs": [
    {
     "name": "stdout",
     "output_type": "stream",
     "text": [
      "[5, 3, 2, 6, 8]\n",
      "[5, 3]\n",
      "\n",
      "Negative Indexing\n",
      "[]\n",
      "[5, 3, 2, 6]\n",
      "\n",
      "Using Steps - Sequencing\n",
      "[5, 3, 2, 6, 8]\n",
      "[5, 3, 2, 6, 8]\n",
      "[5, 3, 2, 6, 8]\n",
      "[8, 6, 2, 3, 5]\n",
      "[]\n",
      "[5, 6]\n"
     ]
    }
   ],
   "source": [
    "# extract one or more than one value\n",
    "try:\n",
    "    var1 = [5,3,2,6,8] #Declaring variable\n",
    "    var2 = var1[0:5] #from index 0 to 5\n",
    "    print (var2)\n",
    "    \n",
    "    print (var1[0:2]) # 0 to 2\n",
    "    print ()\n",
    "    \n",
    "    print (\"Negative Indexing\")\n",
    "    print (var1[-1:-5])\n",
    "    print (var1[-5:-1])\n",
    "    print ()\n",
    "    \n",
    "    print (\"Using Steps - Sequencing\") \n",
    "    print(var1[0:5:1])\n",
    "    print(var1[::])\n",
    "    print(var1[::1])\n",
    "    print(var1[::-1])\n",
    "    print(var1[0:5:-1])\n",
    "    print(var1[-5:-1:3])\n",
    "    \n",
    "except:\n",
    "    print(\"Error : \", sys.exc_info()[1])"
   ]
  },
  {
   "cell_type": "code",
   "execution_count": 53,
   "metadata": {},
   "outputs": [
    {
     "name": "stdout",
     "output_type": "stream",
     "text": [
      "95\n"
     ]
    }
   ],
   "source": [
    "# how to generate random number\n",
    "# using random numbers to generate a list of integer numbers\n",
    "\n",
    "from random import randint\n",
    "print(randint(1,100))"
   ]
  },
  {
   "cell_type": "code",
   "execution_count": 54,
   "metadata": {},
   "outputs": [
    {
     "name": "stdout",
     "output_type": "stream",
     "text": [
      "[62, 86, 91]\n"
     ]
    }
   ],
   "source": [
    "# how to store random numbers in list\n",
    "# storing random numbers in a list\n",
    "\n",
    "var1 = [randint(1,100), randint(1,100), randint(1,100)]\n",
    "print (var1)"
   ]
  },
  {
   "cell_type": "code",
   "execution_count": 64,
   "metadata": {},
   "outputs": [
    {
     "name": "stdout",
     "output_type": "stream",
     "text": [
      "[22, 16, 17, 17, 18]\n"
     ]
    }
   ],
   "source": [
    "#  Generating multiple random numbers and storing in a list\n",
    "\n",
    "from random import randint\n",
    "list1 = [] # creating a blank list\n",
    "MAX = 5\n",
    "for i in range (0,MAX):\n",
    "    list1.append(randint(15,30))\n",
    "\n",
    "print(list1)\n"
   ]
  },
  {
   "cell_type": "code",
   "execution_count": 68,
   "metadata": {},
   "outputs": [
    {
     "name": "stdout",
     "output_type": "stream",
     "text": [
      "[25, 27, 29, 20, 25]\n"
     ]
    }
   ],
   "source": [
    "from random import randint\n",
    "list1 = []\n",
    "MAX = 5 \n",
    "for i in range (0,MAX):\n",
    "    list1.append(randint(15,30))\n",
    "    \n",
    "print(list1)"
   ]
  },
  {
   "cell_type": "markdown",
   "metadata": {},
   "source": [
    "# Day 4"
   ]
  },
  {
   "cell_type": "code",
   "execution_count": 79,
   "metadata": {},
   "outputs": [
    {
     "name": "stdout",
     "output_type": "stream",
     "text": [
      "(1, 2, 3, 4, 5)\n",
      "<class 'type'>\n",
      "140559847502576\n"
     ]
    }
   ],
   "source": [
    "# Tuple\n",
    "# collection\n",
    "\n",
    "tup1 = (1,2,3,4,5)\n",
    "print (tup1)\n",
    "print (type(tuple))\n",
    "print(id(tup1)) # returns memory address of variable"
   ]
  },
  {
   "cell_type": "markdown",
   "metadata": {},
   "source": [
    "# Look after it"
   ]
  },
  {
   "cell_type": "code",
   "execution_count": null,
   "metadata": {},
   "outputs": [],
   "source": [
    "# Basic Linux Commands (Web Server, Data Server are usually in python)\n",
    "# display all the variables of python program\n",
    "# retrieve value of specific memory location"
   ]
  },
  {
   "cell_type": "code",
   "execution_count": 7,
   "metadata": {},
   "outputs": [
    {
     "name": "stdout",
     "output_type": "stream",
     "text": [
      "2\n",
      "4\n",
      "5\n",
      "\n",
      "1\n",
      "(1, 2, 3, 4, 5)\n",
      "(1, 3, 5)\n",
      "(1, 2, 3, 4, 5)\n",
      "(1, 2, 3, 4, 5)\n",
      "(1, 2, 3, 4, 5)\n",
      "(5, 4, 3, 2, 1)\n",
      "False\n",
      "False\n",
      "False\n",
      "False\n",
      "Yes it is Tuple.... True\n",
      "False\n",
      "False\n",
      "False\n"
     ]
    }
   ],
   "source": [
    "# indexing in tuple \n",
    "try:\n",
    "    tup1 = (1,2,3,4,5)\n",
    "    print(tup1[1])\n",
    "    print(tup1[3])\n",
    "    print(max(tup1))\n",
    "#     print(tup1[5])\n",
    "    print()\n",
    "    \n",
    "    print(tup1[-5])\n",
    "    \n",
    "#     slicing in tuple\n",
    "\n",
    "    print(tup1[0:5])\n",
    "    print(tup1[0:5:2])\n",
    "    print(tup1[:5:1])\n",
    "    print(tup1[::1])\n",
    "    print(tup1[::])\n",
    "    print(tup1[::-1]) # gives reverse value of listed tuples\n",
    "    \n",
    "    print(isinstance(tup1, bool))\n",
    "    print(isinstance(tup1, int))\n",
    "    print(isinstance(tup1, float))\n",
    "    print(isinstance(tup1, complex))\n",
    "    print(\"Yes it is Tuple....\",isinstance(tup1, tuple))\n",
    "    print(isinstance(tup1, list))\n",
    "    print(isinstance(tup1, set))\n",
    "    print(isinstance(tup1, dict))\n",
    "\n",
    "\n",
    "\n",
    "\n",
    "except:\n",
    "    print(\"Error: \", sys.exc_info()[1])\n",
    "    "
   ]
  },
  {
   "cell_type": "markdown",
   "metadata": {},
   "source": [
    "# Installing external libraries"
   ]
  },
  {
   "cell_type": "code",
   "execution_count": null,
   "metadata": {},
   "outputs": [],
   "source": []
  },
  {
   "cell_type": "code",
   "execution_count": null,
   "metadata": {},
   "outputs": [],
   "source": []
  },
  {
   "cell_type": "code",
   "execution_count": null,
   "metadata": {},
   "outputs": [],
   "source": []
  },
  {
   "cell_type": "code",
   "execution_count": null,
   "metadata": {},
   "outputs": [],
   "source": []
  },
  {
   "cell_type": "markdown",
   "metadata": {},
   "source": [
    "# Day 5"
   ]
  },
  {
   "cell_type": "code",
   "execution_count": 16,
   "metadata": {},
   "outputs": [
    {
     "name": "stdout",
     "output_type": "stream",
     "text": [
      "{2, 5, 6, 7, 8, 9}\n",
      "<class 'set'>\n",
      "6\n",
      "140190105641760\n",
      "9\n",
      "\n",
      "False\n",
      "False\n",
      "False\n",
      "False\n",
      "False\n",
      "False\n",
      "False\n",
      "This is a Set.... True\n",
      "\n",
      "[1, 2, 3, 4, 5]\n",
      "(1, 2, 3, 4, 5)\n",
      "{1, 2, 3, 4, 5}\n",
      "\n",
      "{3, 4, 5, 6}\n",
      "(3, 4, 5, 6)\n",
      "[3, 4, 5, 6]\n"
     ]
    }
   ],
   "source": [
    "# set \n",
    "set1 = {5,6,7,8,9,2}\n",
    "print(set1)\n",
    "print(type(set1))\n",
    "print(len(set1))\n",
    "print(id(set1))\n",
    "print(max(set1))\n",
    "print()\n",
    "\n",
    "print(isinstance(set1, bool))\n",
    "print(isinstance(set1, int))\n",
    "print(isinstance(set1, float))\n",
    "print(isinstance(set1, complex))\n",
    "print(isinstance(set1,str))\n",
    "print(isinstance(set1, list))\n",
    "print(isinstance(set1, tuple))\n",
    "print(\"This is a Set....\",isinstance(set1, set))\n",
    "\n",
    "# type conversion \n",
    "list1 = [1,2,3,4,5]\n",
    "tup1 = tuple(list1) #conversion from list to tuple\n",
    "set1 = set(tup1) # conversion from tuple to set\n",
    "print()\n",
    "print(list1)\n",
    "print(tup1)\n",
    "print(set1)\n",
    "\n",
    "set2 = {3,4,5,6}\n",
    "tup2 = tuple(set2)\n",
    "list2 = list(tup2)\n",
    "print()\n",
    "\n",
    "print(set2)\n",
    "print(tup2)\n",
    "print(list2)"
   ]
  },
  {
   "cell_type": "code",
   "execution_count": 25,
   "metadata": {},
   "outputs": [
    {
     "name": "stdout",
     "output_type": "stream",
     "text": [
      "array('i', [3, 4, 5, 6, 7, 8])\n",
      "140190109186800\n",
      "<class 'array.array'>\n",
      "6\n",
      "Printing min value 3\n",
      "Printing max value 8\n"
     ]
    }
   ],
   "source": [
    "# Array\n",
    "from array import array\n",
    "\n",
    "array1 = array('i',[3,4,5,6,7,8])\n",
    "print(array1)\n",
    "print(id(array1))\n",
    "print(type(array1))\n",
    "print(len(array1))\n",
    "print(\"Printing min value\",min(array1))\n",
    "print(\"Printing max value\",max(array1))"
   ]
  },
  {
   "cell_type": "code",
   "execution_count": 24,
   "metadata": {},
   "outputs": [
    {
     "name": "stdout",
     "output_type": "stream",
     "text": [
      "Help on class array in module array:\n",
      "\n",
      "class array(builtins.object)\n",
      " |  array(typecode [, initializer]) -> array\n",
      " |  \n",
      " |  Return a new array whose items are restricted by typecode, and\n",
      " |  initialized from the optional initializer value, which must be a list,\n",
      " |  string or iterable over elements of the appropriate type.\n",
      " |  \n",
      " |  Arrays represent basic values and behave very much like lists, except\n",
      " |  the type of objects stored in them is constrained. The type is specified\n",
      " |  at object creation time by using a type code, which is a single character.\n",
      " |  The following type codes are defined:\n",
      " |  \n",
      " |      Type code   C Type             Minimum size in bytes \n",
      " |      'b'         signed integer     1 \n",
      " |      'B'         unsigned integer   1 \n",
      " |      'u'         Unicode character  2 (see note) \n",
      " |      'h'         signed integer     2 \n",
      " |      'H'         unsigned integer   2 \n",
      " |      'i'         signed integer     2 \n",
      " |      'I'         unsigned integer   2 \n",
      " |      'l'         signed integer     4 \n",
      " |      'L'         unsigned integer   4 \n",
      " |      'q'         signed integer     8 (see note) \n",
      " |      'Q'         unsigned integer   8 (see note) \n",
      " |      'f'         floating point     4 \n",
      " |      'd'         floating point     8 \n",
      " |  \n",
      " |  NOTE: The 'u' typecode corresponds to Python's unicode character. On \n",
      " |  narrow builds this is 2-bytes on wide builds this is 4-bytes.\n",
      " |  \n",
      " |  NOTE: The 'q' and 'Q' type codes are only available if the platform \n",
      " |  C compiler used to build Python supports 'long long', or, on Windows, \n",
      " |  '__int64'.\n",
      " |  \n",
      " |  Methods:\n",
      " |  \n",
      " |  append() -- append a new item to the end of the array\n",
      " |  buffer_info() -- return information giving the current memory info\n",
      " |  byteswap() -- byteswap all the items of the array\n",
      " |  count() -- return number of occurrences of an object\n",
      " |  extend() -- extend array by appending multiple elements from an iterable\n",
      " |  fromfile() -- read items from a file object\n",
      " |  fromlist() -- append items from the list\n",
      " |  frombytes() -- append items from the string\n",
      " |  index() -- return index of first occurrence of an object\n",
      " |  insert() -- insert a new item into the array at a provided position\n",
      " |  pop() -- remove and return item (default last)\n",
      " |  remove() -- remove first occurrence of an object\n",
      " |  reverse() -- reverse the order of the items in the array\n",
      " |  tofile() -- write all items to a file object\n",
      " |  tolist() -- return the array converted to an ordinary list\n",
      " |  tobytes() -- return the array converted to a string\n",
      " |  \n",
      " |  Attributes:\n",
      " |  \n",
      " |  typecode -- the typecode character used to create the array\n",
      " |  itemsize -- the length in bytes of one array item\n",
      " |  \n",
      " |  Methods defined here:\n",
      " |  \n",
      " |  __add__(self, value, /)\n",
      " |      Return self+value.\n",
      " |  \n",
      " |  __contains__(self, key, /)\n",
      " |      Return key in self.\n",
      " |  \n",
      " |  __copy__(self, /)\n",
      " |      Return a copy of the array.\n",
      " |  \n",
      " |  __deepcopy__(self, unused, /)\n",
      " |      Return a copy of the array.\n",
      " |  \n",
      " |  __delitem__(self, key, /)\n",
      " |      Delete self[key].\n",
      " |  \n",
      " |  __eq__(self, value, /)\n",
      " |      Return self==value.\n",
      " |  \n",
      " |  __ge__(self, value, /)\n",
      " |      Return self>=value.\n",
      " |  \n",
      " |  __getattribute__(self, name, /)\n",
      " |      Return getattr(self, name).\n",
      " |  \n",
      " |  __getitem__(self, key, /)\n",
      " |      Return self[key].\n",
      " |  \n",
      " |  __gt__(self, value, /)\n",
      " |      Return self>value.\n",
      " |  \n",
      " |  __iadd__(self, value, /)\n",
      " |      Implement self+=value.\n",
      " |  \n",
      " |  __imul__(self, value, /)\n",
      " |      Implement self*=value.\n",
      " |  \n",
      " |  __iter__(self, /)\n",
      " |      Implement iter(self).\n",
      " |  \n",
      " |  __le__(self, value, /)\n",
      " |      Return self<=value.\n",
      " |  \n",
      " |  __len__(self, /)\n",
      " |      Return len(self).\n",
      " |  \n",
      " |  __lt__(self, value, /)\n",
      " |      Return self<value.\n",
      " |  \n",
      " |  __mul__(self, value, /)\n",
      " |      Return self*value.\n",
      " |  \n",
      " |  __ne__(self, value, /)\n",
      " |      Return self!=value.\n",
      " |  \n",
      " |  __reduce_ex__(self, value, /)\n",
      " |      Return state information for pickling.\n",
      " |  \n",
      " |  __repr__(self, /)\n",
      " |      Return repr(self).\n",
      " |  \n",
      " |  __rmul__(self, value, /)\n",
      " |      Return value*self.\n",
      " |  \n",
      " |  __setitem__(self, key, value, /)\n",
      " |      Set self[key] to value.\n",
      " |  \n",
      " |  __sizeof__(self, /)\n",
      " |      Size of the array in memory, in bytes.\n",
      " |  \n",
      " |  append(self, v, /)\n",
      " |      Append new value v to the end of the array.\n",
      " |  \n",
      " |  buffer_info(self, /)\n",
      " |      Return a tuple (address, length) giving the current memory address and the length in items of the buffer used to hold array's contents.\n",
      " |      \n",
      " |      The length should be multiplied by the itemsize attribute to calculate\n",
      " |      the buffer length in bytes.\n",
      " |  \n",
      " |  byteswap(self, /)\n",
      " |      Byteswap all items of the array.\n",
      " |      \n",
      " |      If the items in the array are not 1, 2, 4, or 8 bytes in size, RuntimeError is\n",
      " |      raised.\n",
      " |  \n",
      " |  count(self, v, /)\n",
      " |      Return number of occurrences of v in the array.\n",
      " |  \n",
      " |  extend(self, bb, /)\n",
      " |      Append items to the end of the array.\n",
      " |  \n",
      " |  frombytes(self, buffer, /)\n",
      " |      Appends items from the string, interpreting it as an array of machine values, as if it had been read from a file using the fromfile() method).\n",
      " |  \n",
      " |  fromfile(self, f, n, /)\n",
      " |      Read n objects from the file object f and append them to the end of the array.\n",
      " |  \n",
      " |  fromlist(self, list, /)\n",
      " |      Append items to array from list.\n",
      " |  \n",
      " |  fromstring(self, buffer, /)\n",
      " |      Appends items from the string, interpreting it as an array of machine values, as if it had been read from a file using the fromfile() method).\n",
      " |      \n",
      " |      This method is deprecated. Use frombytes instead.\n",
      " |  \n",
      " |  fromunicode(self, ustr, /)\n",
      " |      Extends this array with data from the unicode string ustr.\n",
      " |      \n",
      " |      The array must be a unicode type array; otherwise a ValueError is raised.\n",
      " |      Use array.frombytes(ustr.encode(...)) to append Unicode data to an array of\n",
      " |      some other type.\n",
      " |  \n",
      " |  index(self, v, /)\n",
      " |      Return index of first occurrence of v in the array.\n",
      " |  \n",
      " |  insert(self, i, v, /)\n",
      " |      Insert a new item v into the array before position i.\n",
      " |  \n",
      " |  pop(self, i=-1, /)\n",
      " |      Return the i-th element and delete it from the array.\n",
      " |      \n",
      " |      i defaults to -1.\n",
      " |  \n",
      " |  remove(self, v, /)\n",
      " |      Remove the first occurrence of v in the array.\n",
      " |  \n",
      " |  reverse(self, /)\n",
      " |      Reverse the order of the items in the array.\n",
      " |  \n",
      " |  tobytes(self, /)\n",
      " |      Convert the array to an array of machine values and return the bytes representation.\n",
      " |  \n",
      " |  tofile(self, f, /)\n",
      " |      Write all items (as machine values) to the file object f.\n",
      " |  \n",
      " |  tolist(self, /)\n",
      " |      Convert array to an ordinary list with the same items.\n",
      " |  \n",
      " |  tostring(self, /)\n",
      " |      Convert the array to an array of machine values and return the bytes representation.\n",
      " |      \n",
      " |      This method is deprecated. Use tobytes instead.\n",
      " |  \n",
      " |  tounicode(self, /)\n",
      " |      Extends this array with data from the unicode string ustr.\n",
      " |      \n",
      " |      Convert the array to a unicode string.  The array must be a unicode type array;\n",
      " |      otherwise a ValueError is raised.  Use array.tobytes().decode() to obtain a\n",
      " |      unicode string from an array of some other type.\n",
      " |  \n",
      " |  ----------------------------------------------------------------------\n",
      " |  Static methods defined here:\n",
      " |  \n",
      " |  __new__(*args, **kwargs) from builtins.type\n",
      " |      Create and return a new object.  See help(type) for accurate signature.\n",
      " |  \n",
      " |  ----------------------------------------------------------------------\n",
      " |  Data descriptors defined here:\n",
      " |  \n",
      " |  itemsize\n",
      " |      the size, in bytes, of one array item\n",
      " |  \n",
      " |  typecode\n",
      " |      the typecode character used to create the array\n",
      " |  \n",
      " |  ----------------------------------------------------------------------\n",
      " |  Data and other attributes defined here:\n",
      " |  \n",
      " |  __hash__ = None\n",
      "\n"
     ]
    }
   ],
   "source": [
    "# help(array)"
   ]
  },
  {
   "cell_type": "code",
   "execution_count": 42,
   "metadata": {},
   "outputs": [
    {
     "name": "stdout",
     "output_type": "stream",
     "text": [
      "[4, 5, 6, [True, False, 1, 2.34, (456+789j), 'Kathmandu']]\n",
      "\n",
      "(7, 8, 9, (True, False, 1, 2.43, (456+897j), 'Kathmandu'))\n",
      "\n",
      "{(True, False, 1, 2.43, (456+897j), 'Kathmandu'), 6, 7, 8, 9, (7, 8, 9, (True, False, 1, 2.43, (456+897j), 'Kathmandu'))}\n",
      "\n",
      "array('i', [6, 7, 6, 7, 8, 8])\n"
     ]
    }
   ],
   "source": [
    "# All in one \n",
    "\n",
    "list1 = [True, False, 1,2.34,456+789j,\"Kathmandu\"]\n",
    "list2 = [4,5,6,list1]\n",
    "print(list2)\n",
    "print()\n",
    "\n",
    "tup1 = (True, False, 1,2.43,456+897j,\"Kathmandu\")\n",
    "tup2 = (7,8,9, tup1)\n",
    "print(tup2)\n",
    "print()\n",
    "\n",
    "# list is not accepted in set\n",
    "set1= {tup1, tup2,6,7,8,9}\n",
    "print(set1)\n",
    "print()\n",
    "\n",
    "array1 = array('i',[6,7,6,7,8,8])\n",
    "print(array1)"
   ]
  },
  {
   "cell_type": "code",
   "execution_count": 43,
   "metadata": {},
   "outputs": [],
   "source": [
    "try:\n",
    "    pass\n",
    "except:\n",
    "    print(\"Error : \", sys.exc_info()[1])"
   ]
  },
  {
   "cell_type": "markdown",
   "metadata": {},
   "source": [
    "# Dictionary"
   ]
  },
  {
   "cell_type": "code",
   "execution_count": 67,
   "metadata": {},
   "outputs": [
    {
     "name": "stdout",
     "output_type": "stream",
     "text": [
      "<class 'dict'>\n",
      "3\n",
      "dict_keys(['id', 'fullname', 'contactaddress'])\n",
      "dict_values([1, 'Rajesh Thapa', 'KTM'])\n",
      "dict_items([('id', 1), ('fullname', 'Rajesh Thapa'), ('contactaddress', 'KTM')])\n",
      "\n",
      "1\n",
      "Rajesh Thapa\n",
      "KTM\n"
     ]
    }
   ],
   "source": [
    "# Dictonary - JSON\n",
    "dict1 = {'id':1, 'fullname':'Rajesh Thapa','contactaddress':'KTM'}\n",
    "print(type(dict1))\n",
    "print(len(dict1))\n",
    "print(dict1.keys())\n",
    "print(dict1.values())\n",
    "print(dict1.items())\n",
    "\n",
    "print()\n",
    "print(dict1['id'])\n",
    "print(dict1['fullname'])\n",
    "print(dict1['contactaddress'])"
   ]
  },
  {
   "cell_type": "code",
   "execution_count": 68,
   "metadata": {},
   "outputs": [
    {
     "name": "stdout",
     "output_type": "stream",
     "text": [
      "b is greater than a\n"
     ]
    }
   ],
   "source": [
    "a = 33\n",
    "b = 200\n",
    "\n",
    "if b > a:\n",
    "  print(\"b is greater than a\")"
   ]
  },
  {
   "cell_type": "code",
   "execution_count": 69,
   "metadata": {},
   "outputs": [],
   "source": [
    "import math"
   ]
  },
  {
   "cell_type": "code",
   "execution_count": 71,
   "metadata": {},
   "outputs": [
    {
     "name": "stdout",
     "output_type": "stream",
     "text": [
      "Help on module math:\n",
      "\n",
      "NAME\n",
      "    math\n",
      "\n",
      "MODULE REFERENCE\n",
      "    https://docs.python.org/3.7/library/math\n",
      "    \n",
      "    The following documentation is automatically generated from the Python\n",
      "    source files.  It may be incomplete, incorrect or include features that\n",
      "    are considered implementation detail and may vary between Python\n",
      "    implementations.  When in doubt, consult the module reference at the\n",
      "    location listed above.\n",
      "\n",
      "DESCRIPTION\n",
      "    This module provides access to the mathematical functions\n",
      "    defined by the C standard.\n",
      "\n",
      "FUNCTIONS\n",
      "    acos(x, /)\n",
      "        Return the arc cosine (measured in radians) of x.\n",
      "    \n",
      "    acosh(x, /)\n",
      "        Return the inverse hyperbolic cosine of x.\n",
      "    \n",
      "    asin(x, /)\n",
      "        Return the arc sine (measured in radians) of x.\n",
      "    \n",
      "    asinh(x, /)\n",
      "        Return the inverse hyperbolic sine of x.\n",
      "    \n",
      "    atan(x, /)\n",
      "        Return the arc tangent (measured in radians) of x.\n",
      "    \n",
      "    atan2(y, x, /)\n",
      "        Return the arc tangent (measured in radians) of y/x.\n",
      "        \n",
      "        Unlike atan(y/x), the signs of both x and y are considered.\n",
      "    \n",
      "    atanh(x, /)\n",
      "        Return the inverse hyperbolic tangent of x.\n",
      "    \n",
      "    ceil(x, /)\n",
      "        Return the ceiling of x as an Integral.\n",
      "        \n",
      "        This is the smallest integer >= x.\n",
      "    \n",
      "    copysign(x, y, /)\n",
      "        Return a float with the magnitude (absolute value) of x but the sign of y.\n",
      "        \n",
      "        On platforms that support signed zeros, copysign(1.0, -0.0)\n",
      "        returns -1.0.\n",
      "    \n",
      "    cos(x, /)\n",
      "        Return the cosine of x (measured in radians).\n",
      "    \n",
      "    cosh(x, /)\n",
      "        Return the hyperbolic cosine of x.\n",
      "    \n",
      "    degrees(x, /)\n",
      "        Convert angle x from radians to degrees.\n",
      "    \n",
      "    erf(x, /)\n",
      "        Error function at x.\n",
      "    \n",
      "    erfc(x, /)\n",
      "        Complementary error function at x.\n",
      "    \n",
      "    exp(x, /)\n",
      "        Return e raised to the power of x.\n",
      "    \n",
      "    expm1(x, /)\n",
      "        Return exp(x)-1.\n",
      "        \n",
      "        This function avoids the loss of precision involved in the direct evaluation of exp(x)-1 for small x.\n",
      "    \n",
      "    fabs(x, /)\n",
      "        Return the absolute value of the float x.\n",
      "    \n",
      "    factorial(x, /)\n",
      "        Find x!.\n",
      "        \n",
      "        Raise a ValueError if x is negative or non-integral.\n",
      "    \n",
      "    floor(x, /)\n",
      "        Return the floor of x as an Integral.\n",
      "        \n",
      "        This is the largest integer <= x.\n",
      "    \n",
      "    fmod(x, y, /)\n",
      "        Return fmod(x, y), according to platform C.\n",
      "        \n",
      "        x % y may differ.\n",
      "    \n",
      "    frexp(x, /)\n",
      "        Return the mantissa and exponent of x, as pair (m, e).\n",
      "        \n",
      "        m is a float and e is an int, such that x = m * 2.**e.\n",
      "        If x is 0, m and e are both 0.  Else 0.5 <= abs(m) < 1.0.\n",
      "    \n",
      "    fsum(seq, /)\n",
      "        Return an accurate floating point sum of values in the iterable seq.\n",
      "        \n",
      "        Assumes IEEE-754 floating point arithmetic.\n",
      "    \n",
      "    gamma(x, /)\n",
      "        Gamma function at x.\n",
      "    \n",
      "    gcd(x, y, /)\n",
      "        greatest common divisor of x and y\n",
      "    \n",
      "    hypot(x, y, /)\n",
      "        Return the Euclidean distance, sqrt(x*x + y*y).\n",
      "    \n",
      "    isclose(a, b, *, rel_tol=1e-09, abs_tol=0.0)\n",
      "        Determine whether two floating point numbers are close in value.\n",
      "        \n",
      "          rel_tol\n",
      "            maximum difference for being considered \"close\", relative to the\n",
      "            magnitude of the input values\n",
      "          abs_tol\n",
      "            maximum difference for being considered \"close\", regardless of the\n",
      "            magnitude of the input values\n",
      "        \n",
      "        Return True if a is close in value to b, and False otherwise.\n",
      "        \n",
      "        For the values to be considered close, the difference between them\n",
      "        must be smaller than at least one of the tolerances.\n",
      "        \n",
      "        -inf, inf and NaN behave similarly to the IEEE 754 Standard.  That\n",
      "        is, NaN is not close to anything, even itself.  inf and -inf are\n",
      "        only close to themselves.\n",
      "    \n",
      "    isfinite(x, /)\n",
      "        Return True if x is neither an infinity nor a NaN, and False otherwise.\n",
      "    \n",
      "    isinf(x, /)\n",
      "        Return True if x is a positive or negative infinity, and False otherwise.\n",
      "    \n",
      "    isnan(x, /)\n",
      "        Return True if x is a NaN (not a number), and False otherwise.\n",
      "    \n",
      "    ldexp(x, i, /)\n",
      "        Return x * (2**i).\n",
      "        \n",
      "        This is essentially the inverse of frexp().\n",
      "    \n",
      "    lgamma(x, /)\n",
      "        Natural logarithm of absolute value of Gamma function at x.\n",
      "    \n",
      "    log(...)\n",
      "        log(x, [base=math.e])\n",
      "        Return the logarithm of x to the given base.\n",
      "        \n",
      "        If the base not specified, returns the natural logarithm (base e) of x.\n",
      "    \n",
      "    log10(x, /)\n",
      "        Return the base 10 logarithm of x.\n",
      "    \n",
      "    log1p(x, /)\n",
      "        Return the natural logarithm of 1+x (base e).\n",
      "        \n",
      "        The result is computed in a way which is accurate for x near zero.\n",
      "    \n",
      "    log2(x, /)\n",
      "        Return the base 2 logarithm of x.\n",
      "    \n",
      "    modf(x, /)\n",
      "        Return the fractional and integer parts of x.\n",
      "        \n",
      "        Both results carry the sign of x and are floats.\n",
      "    \n",
      "    pow(x, y, /)\n",
      "        Return x**y (x to the power of y).\n",
      "    \n",
      "    radians(x, /)\n",
      "        Convert angle x from degrees to radians.\n",
      "    \n",
      "    remainder(x, y, /)\n",
      "        Difference between x and the closest integer multiple of y.\n",
      "        \n",
      "        Return x - n*y where n*y is the closest integer multiple of y.\n",
      "        In the case where x is exactly halfway between two multiples of\n",
      "        y, the nearest even value of n is used. The result is always exact.\n",
      "    \n",
      "    sin(x, /)\n",
      "        Return the sine of x (measured in radians).\n",
      "    \n",
      "    sinh(x, /)\n",
      "        Return the hyperbolic sine of x.\n",
      "    \n",
      "    sqrt(x, /)\n",
      "        Return the square root of x.\n",
      "    \n",
      "    tan(x, /)\n",
      "        Return the tangent of x (measured in radians).\n",
      "    \n",
      "    tanh(x, /)\n",
      "        Return the hyperbolic tangent of x.\n",
      "    \n",
      "    trunc(x, /)\n",
      "        Truncates the Real x to the nearest Integral toward 0.\n",
      "        \n",
      "        Uses the __trunc__ magic method.\n",
      "\n",
      "DATA\n",
      "    e = 2.718281828459045\n",
      "    inf = inf\n",
      "    nan = nan\n",
      "    pi = 3.141592653589793\n",
      "    tau = 6.283185307179586\n",
      "\n",
      "FILE\n",
      "    /opt/anaconda3/lib/python3.7/lib-dynload/math.cpython-37m-darwin.so\n",
      "\n",
      "\n"
     ]
    }
   ],
   "source": [
    "help(math)"
   ]
  },
  {
   "cell_type": "code",
   "execution_count": 87,
   "metadata": {},
   "outputs": [
    {
     "name": "stdout",
     "output_type": "stream",
     "text": [
      "1\n",
      "2\n",
      "3\n",
      "4\n",
      "5\n"
     ]
    }
   ],
   "source": [
    "i = 1\n",
    "while i < 6:\n",
    "  print(i)\n",
    "  i += 1"
   ]
  },
  {
   "cell_type": "code",
   "execution_count": 88,
   "metadata": {},
   "outputs": [
    {
     "name": "stdout",
     "output_type": "stream",
     "text": [
      "apple\n",
      "banana\n",
      "cherry\n"
     ]
    }
   ],
   "source": [
    "fruits = [\"apple\", \"banana\", \"cherry\"]\n",
    "for x in fruits:\n",
    "  print(x) "
   ]
  },
  {
   "cell_type": "markdown",
   "metadata": {},
   "source": [
    "# Day 6\n",
    "## Operators in Python\n",
    "\n",
    "* Character Set - 256 characters\n",
    "    * Values\n",
    "    * Instruction / Command - Operator\n",
    "    \n",
    "• Arithmetic Operator\n",
    "    ### + : ADD\n",
    "    ### - : SUB\n",
    "    ### * : PRD\n",
    "    ### / : DIV \n",
    "    ### // : DIV\n",
    "    ### % : MOD\n",
    "    \n",
    "# Note\n",
    "\n",
    "•sqrt\n",
    "•pow\n",
    "\n",
    "\n",
    "\n",
    "\n",
    "\n",
    "\n",
    "    "
   ]
  },
  {
   "cell_type": "code",
   "execution_count": 8,
   "metadata": {},
   "outputs": [
    {
     "name": "stdout",
     "output_type": "stream",
     "text": [
      "12\n",
      "8\n",
      "100\n",
      "5.0\n",
      "5\n",
      "0\n"
     ]
    }
   ],
   "source": [
    "num1 = 10\n",
    "num2 = 2\n",
    "\n",
    "num3 = num1 + num2\n",
    "print(num3)\n",
    "\n",
    "num3 = num1 - num2\n",
    "print(num3)\n",
    "\n",
    "num3 = num1**num2\n",
    "print(num3)\n",
    "\n",
    "num3 = num1 / num2\n",
    "print(num3)\n",
    "\n",
    "num3 = num1 // num2\n",
    "print(num3)\n",
    "\n",
    "num3 = num1 % num2\n",
    "print(num3)"
   ]
  },
  {
   "cell_type": "markdown",
   "metadata": {},
   "source": [
    "### Comparison operator or Relational operator\n",
    "    • Compares two values and return boolean result (i.e. True/False)"
   ]
  },
  {
   "cell_type": "code",
   "execution_count": 26,
   "metadata": {},
   "outputs": [
    {
     "name": "stdout",
     "output_type": "stream",
     "text": [
      "Equals to example\n",
      "False\n",
      "\n",
      "Not Equals to example\n",
      "True\n",
      "\n",
      "Greater than\n",
      "True\n",
      "\n",
      "Less than example\n",
      "False\n",
      "\n",
      "Greater than or equal to example\n",
      "True\n",
      "\n",
      "Less than or equal to example\n",
      "False\n"
     ]
    }
   ],
   "source": [
    "num1 = 10\n",
    "num2 = 3\n",
    "\n",
    "print(\"Equals to example\")\n",
    "result = (num1 == num2) # Equals to-compares first value with the second value\n",
    "print(result)\n",
    "print()\n",
    "# Not equals to \n",
    "print(\"Not Equals to example\")\n",
    "result = (num1 != num2)\n",
    "print(result)\n",
    "print()\n",
    "\n",
    "# GT\n",
    "print(\"Greater than\")\n",
    "result = (num1 > num2)\n",
    "print(result)\n",
    "print()\n",
    "\n",
    "# LT\n",
    "print(\"Less than example\")\n",
    "result = (num1 < num2)\n",
    "print(result)\n",
    "print()\n",
    "\n",
    "# GT or EQ\n",
    "print(\"Greater than or equal to example\")\n",
    "result  = (num1 >= num2)\n",
    "print(result)\n",
    "print()\n",
    "\n",
    "# LT or EQ\n",
    "print(\"Less than or equal to example\")\n",
    "result = (num1 <= num2)\n",
    "print(result)"
   ]
  },
  {
   "cell_type": "markdown",
   "metadata": {},
   "source": [
    "### Assignment Operator =\n",
    "    • variable = value-|Simple Assignment\n",
    "    • variable = variable = value - Multiple Assignment\n",
    "    • variable += value - Short-hand Assignment"
   ]
  },
  {
   "cell_type": "code",
   "execution_count": 36,
   "metadata": {},
   "outputs": [
    {
     "name": "stdout",
     "output_type": "stream",
     "text": [
      "Simple Assignment\n",
      "30\n",
      "\n",
      "Multiple Assignment\n",
      "100 100 100\n",
      "\n",
      "Short-hand Assignment\n",
      "110\n",
      "True\n",
      "False\n"
     ]
    }
   ],
   "source": [
    "print (\"Simple Assignment\")\n",
    "num1 = 30\n",
    "print(num1)\n",
    "print()\n",
    "\n",
    "print (\"Multiple Assignment\")\n",
    "num1 = num2 = num3 = 100\n",
    "print(num1,num2,num3)\n",
    "print()\n",
    "\n",
    "print(\"Short-hand Assignment\")\n",
    "num1 += 10\n",
    "print (num1) "
   ]
  },
  {
   "cell_type": "markdown",
   "metadata": {},
   "source": [
    "# LOGICAL OPERATOR\n",
    "    • and \n",
    "    • or \n",
    "    • not\n",
    "  •Condition and Conditions?\n",
    "  "
   ]
  },
  {
   "cell_type": "code",
   "execution_count": 37,
   "metadata": {},
   "outputs": [
    {
     "name": "stdout",
     "output_type": "stream",
     "text": [
      "Example of Logical operator\n",
      "True\n",
      "False\n"
     ]
    }
   ],
   "source": [
    "print(\"Example of Logical operator\")\n",
    "result = True \n",
    "print(result)\n",
    "print(not result)\n"
   ]
  },
  {
   "cell_type": "code",
   "execution_count": 43,
   "metadata": {},
   "outputs": [
    {
     "name": "stdout",
     "output_type": "stream",
     "text": [
      "True\n",
      "\n",
      "True\n",
      "\n",
      "False\n"
     ]
    }
   ],
   "source": [
    "num1 = 5 \n",
    "num2 = 4 \n",
    "num3 = 3\n",
    "\n",
    "result = (num1>num2) or (num1>num3)\n",
    "print(result)\n",
    "print()\n",
    "\n",
    "result = (num1>num2) and (num1>num3)\n",
    "print(result)\n",
    "print()\n",
    "\n",
    "print(not result)"
   ]
  },
  {
   "cell_type": "code",
   "execution_count": 45,
   "metadata": {},
   "outputs": [
    {
     "name": "stdout",
     "output_type": "stream",
     "text": [
      "True\n"
     ]
    }
   ],
   "source": [
    "## in, not in operator\n",
    "list1 = [7,4,5,6,8,2]\n",
    "print(5 in list1)"
   ]
  },
  {
   "cell_type": "markdown",
   "metadata": {},
   "source": [
    "# Others () [ ] { }"
   ]
  },
  {
   "cell_type": "code",
   "execution_count": null,
   "metadata": {},
   "outputs": [],
   "source": []
  },
  {
   "cell_type": "code",
   "execution_count": null,
   "metadata": {},
   "outputs": [],
   "source": []
  }
 ],
 "metadata": {
  "kernelspec": {
   "display_name": "Python 3",
   "language": "python",
   "name": "python3"
  },
  "language_info": {
   "codemirror_mode": {
    "name": "ipython",
    "version": 3
   },
   "file_extension": ".py",
   "mimetype": "text/x-python",
   "name": "python",
   "nbconvert_exporter": "python",
   "pygments_lexer": "ipython3",
   "version": "3.7.4"
  }
 },
 "nbformat": 4,
 "nbformat_minor": 2
}
